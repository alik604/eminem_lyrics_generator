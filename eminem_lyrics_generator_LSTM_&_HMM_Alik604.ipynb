{
 "cells": [
  {
   "cell_type": "markdown",
   "metadata": {
    "colab_type": "text",
    "id": "view-in-github"
   },
   "source": [
    "<a href=\"https://colab.research.google.com/github/alik604/eminem_lyrics_generator/blob/master/eminem_lyrics_generator_LSTM_%26_HMM_Alik604.ipynb\" target=\"_parent\"><img src=\"https://colab.research.google.com/assets/colab-badge.svg\" alt=\"Open In Colab\"/></a>"
   ]
  },
  {
   "cell_type": "markdown",
   "metadata": {
    "colab_type": "text",
    "id": "g8OTK5zjhteN"
   },
   "source": [
    "# By Alik604\n",
    "## Adapted from https://github.com/rojagtap/eminem_lyrics_generator\n",
    "> "
   ]
  },
  {
   "cell_type": "code",
   "execution_count": 265,
   "metadata": {
    "colab": {},
    "colab_type": "code",
    "id": "5rS6LXXTDcH6"
   },
   "outputs": [],
   "source": [
    "# from google.colab import drive\n",
    "# drive.mount('/content/drive')\n",
    "# cd /content/drive/My Drive/Data"
   ]
  },
  {
   "cell_type": "code",
   "execution_count": 266,
   "metadata": {
    "colab": {},
    "colab_type": "code",
    "id": "R7RNVjXQ-0ZK"
   },
   "outputs": [],
   "source": [
    "# !pip install hmmlearn pomegranate\n",
    "\n",
    "\n",
    "import pandas as pd\n",
    "import numpy as np\n",
    "import re\n",
    "import os\n",
    "import glob\n",
    "import json\n",
    "import requests\n",
    "\n",
    "from IPython.core.interactiveshell import InteractiveShell\n",
    "InteractiveShell.ast_node_interactivity = \"all\""
   ]
  },
  {
   "cell_type": "markdown",
   "metadata": {
    "colab_type": "text",
    "id": "NnTDRtAZCt6H"
   },
   "source": [
    "# Starting Preprocessing - Check point\n",
    "> This can be disreguarded as data is provided a single .csv"
   ]
  },
  {
   "cell_type": "code",
   "execution_count": 267,
   "metadata": {
    "colab": {},
    "colab_type": "code",
    "id": "a4vc42jUjCgg"
   },
   "outputs": [],
   "source": [
    "## retain\n",
    "\n",
    "# !pip install lyricsgenius\n",
    "# import lyricsgenius\n",
    "# genius = lyricsgenius.Genius(\"8AO32_nfbxk_8yNyBYJTnw_4qRjT2Uid1pMSW_XJ_56sBsnNLuXeKxwMMEZmQrQN\") # this is a valid key :) \n",
    "# artist = genius.search_artist(\"Eminem\", max_songs=100, sort='popularity') # XXXTENTACION \n",
    "# for i in range(100):\n",
    "#   artist.songs[i].save_lyrics()"
   ]
  },
  {
   "cell_type": "code",
   "execution_count": 268,
   "metadata": {
    "colab": {},
    "colab_type": "code",
    "id": "R94zWarKjCm1"
   },
   "outputs": [],
   "source": [
    "# lines = []\n",
    "# i = 1\n",
    "# for root, dirs, files in os.walk('./raw'):\n",
    "#     for file in files:\n",
    "#         if file.endswith('.json') and 'xxxtentacion' in file : # eminem  # xxxtentacion\n",
    "#             file = open(\"./raw/\" + file)\n",
    "#             json_data = file.read()\n",
    "#             data = json.loads(json_data)\n",
    "#             lines.append(data['lyrics'])\n",
    "#             i +=1\n",
    "# print(i)\n",
    "# lines = list(filter(None, lines))\n",
    "# # lines"
   ]
  },
  {
   "cell_type": "code",
   "execution_count": 269,
   "metadata": {
    "colab": {},
    "colab_type": "code",
    "id": "tNTXifyV-0aI"
   },
   "outputs": [],
   "source": [
    "def clean_text(sentence):\n",
    "  sentence = sentence.lower()\n",
    "  sentence = re.sub(r'\\[.*?\\]', \"\", sentence) # https://www.regextester.com/97589 &  https://stackoverflow.com/a/40621332\n",
    "  sentence = re.sub(r\"\\u2005\", \"\", sentence)\n",
    "\n",
    "  sentence = re.sub(r\"’\", \"\\'\", sentence) \n",
    "  sentence = re.sub(r\"‘\", \"\\'\", sentence)\n",
    "  sentence = re.sub(r\"i'm\", \"i am\", sentence)\n",
    "  sentence = re.sub(r\"he's\", \"he is\", sentence)\n",
    "  sentence = re.sub(r\"she's\", \"she is\", sentence)\n",
    "  sentence = re.sub(r\"it's\", \"it is\", sentence)\n",
    "  sentence = re.sub(r\"that's\", \"that is\", sentence)\n",
    "  sentence = re.sub(r\"what's\", \"what is\", sentence)\n",
    "  sentence = re.sub(r\"where's\", \"where is\", sentence)\n",
    "  sentence = re.sub(r\"there's\", \"there is\", sentence)\n",
    "  sentence = re.sub(r\"who's\", \"who is\", sentence)\n",
    "  sentence = re.sub(r\"how's\", \"how is\", sentence)\n",
    "  sentence = re.sub(r\"\\'ll\", \" will\", sentence)\n",
    "  sentence = re.sub(r\"\\'ve\", \" have\", sentence)\n",
    "  sentence = re.sub(r\"\\'re\", \" are\", sentence)\n",
    "  sentence = re.sub(r\"\\'d\", \" would\", sentence)\n",
    "  sentence = re.sub(r\"won't\", \"will not\", sentence)\n",
    "  sentence = re.sub(r\"can't\", \"cannot\", sentence)\n",
    "  sentence = re.sub(r\"n't\", \" not\", sentence)\n",
    "  sentence = re.sub(r\"n'\", \"ng\", sentence)\n",
    "  sentence = re.sub(r\"\\'bout\", \"about\", sentence)\n",
    "  sentence = re.sub(r\"'til\", \"until\", sentence)\n",
    "  sentence = re.sub(r\"c'mon\", \"come on\", sentence)\n",
    "  sentence = re.sub(\"\\n\", \" \", sentence)\n",
    "\n",
    "  sentence = re.sub(r\"\\u2005\", \"\", sentence)\n",
    "  sentence = re.sub(\"[-*/()\\\"’‘'#/@;:<>{}`+=~|!?,]\", \"\", sentence) # should it be:  \\'   rather than '   # TODO note: removed . \n",
    "  sentence = re.sub(r\"'\", \"\", sentence)\n",
    "  sentence = re.sub(r\"\\t\", \"\", sentence)\n",
    "  sentence = re.sub(r\"\\r\", \"\", sentence)\n",
    "  sentence = re.sub(r\"\\n\", \"\", sentence)\n",
    "\n",
    "  sentence = re.sub(r\"  \", \" \", sentence)\n",
    "  sentence = re.sub(r\"  \", \" \", sentence)\n",
    "  return sentence\n",
    "# lines = pd.DataFrame(lines, columns=['lines'])\n",
    "# lines.lines = lines.lines.apply(lambda line: clean_text(line))\n",
    "# lines.values\n",
    "\n",
    "# lines.to_csv('./preprocessed_data_xxxtentacion.csv')"
   ]
  },
  {
   "cell_type": "markdown",
   "metadata": {
    "colab_type": "text",
    "id": "ypQd-Umh7jEj"
   },
   "source": [
    "# Starting ML - Check point"
   ]
  },
  {
   "cell_type": "code",
   "execution_count": 270,
   "metadata": {
    "colab": {
     "base_uri": "https://localhost:8080/",
     "height": 198
    },
    "colab_type": "code",
    "id": "ggswMub774Hh",
    "outputId": "59237937-73d9-4571-9ef0-20e9fbc02c15"
   },
   "outputs": [
    {
     "data": {
      "text/html": [
       "<div>\n",
       "<style scoped>\n",
       "    .dataframe tbody tr th:only-of-type {\n",
       "        vertical-align: middle;\n",
       "    }\n",
       "\n",
       "    .dataframe tbody tr th {\n",
       "        vertical-align: top;\n",
       "    }\n",
       "\n",
       "    .dataframe thead th {\n",
       "        text-align: right;\n",
       "    }\n",
       "</style>\n",
       "<table border=\"1\" class=\"dataframe\">\n",
       "  <thead>\n",
       "    <tr style=\"text-align: right;\">\n",
       "      <th></th>\n",
       "      <th>lines</th>\n",
       "    </tr>\n",
       "  </thead>\n",
       "  <tbody>\n",
       "    <tr>\n",
       "      <th>0</th>\n",
       "      <td>look i was gonna go easy on you not to hurt y...</td>\n",
       "    </tr>\n",
       "    <tr>\n",
       "      <th>1</th>\n",
       "      <td>you sound like a bitch bitch shut the fuck up...</td>\n",
       "    </tr>\n",
       "    <tr>\n",
       "      <th>2</th>\n",
       "      <td>look if you had one shot or one opportunity t...</td>\n",
       "    </tr>\n",
       "    <tr>\n",
       "      <th>3</th>\n",
       "      <td>i am friends with the monster that is under m...</td>\n",
       "    </tr>\n",
       "    <tr>\n",
       "      <th>4</th>\n",
       "      <td>ugh you are a monster i can swallow a bottle ...</td>\n",
       "    </tr>\n",
       "  </tbody>\n",
       "</table>\n",
       "</div>"
      ],
      "text/plain": [
       "                                               lines\n",
       "0   look i was gonna go easy on you not to hurt y...\n",
       "1   you sound like a bitch bitch shut the fuck up...\n",
       "2   look if you had one shot or one opportunity t...\n",
       "3   i am friends with the monster that is under m...\n",
       "4   ugh you are a monster i can swallow a bottle ..."
      ]
     },
     "execution_count": 270,
     "metadata": {},
     "output_type": "execute_result"
    }
   ],
   "source": [
    "## Eminem\n",
    "lines = pd.read_csv('https://github.com/alik604/eminem_lyrics_generator/raw/master/data/preprocessed_data_eminem.csv',index_col=0)\n",
    "\n",
    "## XXXTentacion\n",
    "# lines = pd.read_csv('https://raw.githubusercontent.com/alik604/eminem_lyrics_generator/master/data/preprocessed_data_xxxtentacion.csv',index_col=0)\n",
    "\n",
    "## Treasure Island\n",
    "# raw_text_lower = requests.get(\"https://data.heatonresearch.com/data/t81-558/text/treasure_island.txt\").text.lower()\n",
    "# processed_text = re.sub(r'[^\\x00-\\x7f]',r'', raw_text_lower)\n",
    "# processed_text = clean_text(processed_text)\n",
    "# # processed_text\n",
    "# lines = pd.DataFrame(processed_text.split(\".\")[270:], columns=[\"lines\"])\n",
    "# print(lines.shape)\n",
    "# lines.drop_duplicates(inplace=True)\n",
    "# print(lines.shape)\n",
    "\n",
    "\n",
    "lines.head(5)"
   ]
  },
  {
   "cell_type": "code",
   "execution_count": 271,
   "metadata": {
    "colab": {
     "base_uri": "https://localhost:8080/",
     "height": 198
    },
    "colab_type": "code",
    "id": "VKEfXByiFq_5",
    "outputId": "5841e403-6960-4c14-9f3c-fbc925a9a61e"
   },
   "outputs": [
    {
     "data": {
      "text/html": [
       "<div>\n",
       "<style scoped>\n",
       "    .dataframe tbody tr th:only-of-type {\n",
       "        vertical-align: middle;\n",
       "    }\n",
       "\n",
       "    .dataframe tbody tr th {\n",
       "        vertical-align: top;\n",
       "    }\n",
       "\n",
       "    .dataframe thead th {\n",
       "        text-align: right;\n",
       "    }\n",
       "</style>\n",
       "<table border=\"1\" class=\"dataframe\">\n",
       "  <thead>\n",
       "    <tr style=\"text-align: right;\">\n",
       "      <th></th>\n",
       "      <th>lines</th>\n",
       "    </tr>\n",
       "  </thead>\n",
       "  <tbody>\n",
       "    <tr>\n",
       "      <th>0</th>\n",
       "      <td>[look, i, was, gonna, go, easy, on, you, not, ...</td>\n",
       "    </tr>\n",
       "    <tr>\n",
       "      <th>1</th>\n",
       "      <td>[you, sound, like, a, bitch, bitch, shut, the,...</td>\n",
       "    </tr>\n",
       "    <tr>\n",
       "      <th>2</th>\n",
       "      <td>[look, if, you, had, one, shot, or, one, oppor...</td>\n",
       "    </tr>\n",
       "    <tr>\n",
       "      <th>3</th>\n",
       "      <td>[i, am, friends, with, the, monster, that, is,...</td>\n",
       "    </tr>\n",
       "    <tr>\n",
       "      <th>4</th>\n",
       "      <td>[ugh, you, are, a, monster, i, can, swallow, a...</td>\n",
       "    </tr>\n",
       "  </tbody>\n",
       "</table>\n",
       "</div>"
      ],
      "text/plain": [
       "                                               lines\n",
       "0  [look, i, was, gonna, go, easy, on, you, not, ...\n",
       "1  [you, sound, like, a, bitch, bitch, shut, the,...\n",
       "2  [look, if, you, had, one, shot, or, one, oppor...\n",
       "3  [i, am, friends, with, the, monster, that, is,...\n",
       "4  [ugh, you, are, a, monster, i, can, swallow, a..."
      ]
     },
     "execution_count": 271,
     "metadata": {},
     "output_type": "execute_result"
    }
   ],
   "source": [
    "lines.lines = lines.lines.apply(lambda line: line.split())\n",
    "lines.head(5)"
   ]
  },
  {
   "cell_type": "code",
   "execution_count": 272,
   "metadata": {
    "colab": {},
    "colab_type": "code",
    "id": "EX8mMxFv-0a5"
   },
   "outputs": [],
   "source": [
    "x_train = [line[:-1] for line in lines.lines]\n",
    "y_train = [line[1:] for line in lines.lines]"
   ]
  },
  {
   "cell_type": "code",
   "execution_count": 273,
   "metadata": {
    "colab": {},
    "colab_type": "code",
    "id": "t6cueFD--0bb"
   },
   "outputs": [],
   "source": [
    "from tensorflow.keras.preprocessing.text import Tokenizer\n",
    "from tensorflow.keras.preprocessing.sequence import pad_sequences"
   ]
  },
  {
   "cell_type": "code",
   "execution_count": 274,
   "metadata": {
    "colab": {},
    "colab_type": "code",
    "id": "tT51cTsN-0bm"
   },
   "outputs": [],
   "source": [
    "tokenizer = Tokenizer()\n",
    "tokenizer.fit_on_texts(lines.lines)"
   ]
  },
  {
   "cell_type": "code",
   "execution_count": 275,
   "metadata": {
    "colab": {
     "base_uri": "https://localhost:8080/",
     "height": 74
    },
    "colab_type": "code",
    "id": "xyZARYVe-0b-",
    "outputId": "f82ca845-535a-48e6-bd11-60a9ee7a0e9d"
   },
   "outputs": [],
   "source": [
    "# print(x_train[0])\n",
    "x_train = tokenizer.texts_to_sequences(x_train)\n",
    "y_train = tokenizer.texts_to_sequences(y_train)\n",
    "# print(x_train[0])"
   ]
  },
  {
   "cell_type": "code",
   "execution_count": 276,
   "metadata": {
    "colab": {},
    "colab_type": "code",
    "id": "JivHjswYQqsD"
   },
   "outputs": [],
   "source": [
    "word2idx = tokenizer.word_index\n",
    "idx2word = {value: key for key, value in word2idx.items()}"
   ]
  },
  {
   "cell_type": "code",
   "execution_count": 277,
   "metadata": {
    "colab": {},
    "colab_type": "code",
    "id": "gc1P4IYWlDzV"
   },
   "outputs": [],
   "source": [
    "word2idx[\"<pad>\"] = 0\n",
    "idx2word[0] = \"<pad>\""
   ]
  },
  {
   "cell_type": "code",
   "execution_count": 278,
   "metadata": {
    "colab": {
     "base_uri": "https://localhost:8080/",
     "height": 181
    },
    "colab_type": "code",
    "id": "hYmlGZ8E-0cQ",
    "outputId": "6e1988b3-20a8-4471-ca04-1cb9fdb3180c"
   },
   "outputs": [
    {
     "data": {
      "text/plain": [
       "count      84.000000\n",
       "mean      968.416667\n",
       "std       266.926559\n",
       "min       114.000000\n",
       "25%       800.500000\n",
       "50%       919.000000\n",
       "75%      1076.750000\n",
       "max      1784.000000\n",
       "dtype: float64"
      ]
     },
     "execution_count": 278,
     "metadata": {},
     "output_type": "execute_result"
    }
   ],
   "source": [
    "lengths = [len(sequence) for sequence in x_train]\n",
    "\n",
    "lengths = pd.Series(lengths)\n",
    "lengths.describe()"
   ]
  },
  {
   "cell_type": "code",
   "execution_count": 279,
   "metadata": {
    "colab": {},
    "colab_type": "code",
    "id": "AY_uinnF-0co"
   },
   "outputs": [],
   "source": [
    "maxlen = lengths.describe()['max'] # 256 #1024 # None to Infer it \n",
    "# maxlen: Optional Int, maximum length of all sequences. If not provided, sequences will be padded to the length of the longest individual sequence\n",
    "x_train = pad_sequences(x_train, maxlen=int(maxlen), padding='pre', truncating='pre') # prehaps pre is ideal: https://stackoverflow.com/a/51825971\n",
    "y_train = pad_sequences(y_train, maxlen=int(maxlen), padding='pre', truncating='pre')"
   ]
  },
  {
   "cell_type": "code",
   "execution_count": 286,
   "metadata": {
    "colab": {
     "base_uri": "https://localhost:8080/",
     "height": 35
    },
    "colab_type": "code",
    "id": "w8GkHpsH-0c4",
    "outputId": "a7edbaaa-67aa-477c-e106-3b74004b5c34"
   },
   "outputs": [
    {
     "data": {
      "text/plain": [
       "102"
      ]
     },
     "execution_count": 286,
     "metadata": {},
     "output_type": "execute_result"
    },
    {
     "name": "stdout",
     "output_type": "stream",
     "text": [
      "Num GPUs Available:  0\n"
     ]
    }
   ],
   "source": [
    "from tensorflow.keras.models import Sequential, load_model\n",
    "from tensorflow.keras.layers import GRU, LSTM, Dense, Input, Embedding, Dropout, Bidirectional \n",
    "from tensorflow.keras.optimizers import Adam, SGD\n",
    "from tensorflow.keras.regularizers import l2\n",
    "from tensorflow.keras.losses import SparseCategoricalCrossentropy\n",
    "from tensorflow.keras.callbacks import ModelCheckpoint\n",
    "import gc\n",
    "gc.collect()\n",
    "\n",
    "\n",
    "import tensorflow as tf\n",
    "print(\"Num GPUs Available: \", len(tf.config.experimental.list_physical_devices('GPU')))"
   ]
  },
  {
   "cell_type": "code",
   "execution_count": 287,
   "metadata": {},
   "outputs": [],
   "source": [
    "def generate(word):\n",
    "    # word = clean_text(word)\n",
    "    inputs = np.zeros((1, 1))\n",
    "    inputs[0, 0] = word2idx[word]\n",
    "    count = 1\n",
    "    while count <= 50:\n",
    "        pred = model.predict(inputs)\n",
    "        word = np.argmax(pred)\n",
    "        if word >= vocab_size:\n",
    "            word = vocab_size - 1\n",
    "\n",
    "        inputs[0, 0] = word\n",
    "        \n",
    "        print(idx2word[word], end=\" \")\n",
    "        count += 1"
   ]
  },
  {
   "cell_type": "code",
   "execution_count": 288,
   "metadata": {
    "colab": {},
    "colab_type": "code",
    "id": "zaEAkQ1T-0dE"
   },
   "outputs": [],
   "source": [
    "vocab_size = len(tokenizer.word_index) + 1 # 8526 for eminem; ~2000 for X\n",
    "embedding_dim = 128 #1024 # 128\n",
    "bridge = int(vocab_size/3)\n",
    "\n",
    "model = Sequential()\n",
    "\n",
    "model.add(Embedding(input_dim = vocab_size, output_dim=embedding_dim, mask_zero=True))\n",
    "model.add((LSTM(embedding_dim, return_sequences=True)))\n",
    "\n",
    "# model.add(Dense(embedding_dim)) # I found this to work well in LSTMs for regression\n",
    "# model.add(Bidirectional(LSTM(embedding_dim, return_sequences=True)))\n",
    "\n",
    "model.add(Dense(vocab_size))\n",
    "\n",
    "opt = Adam(learning_rate=0.0001) # 0.001 is default\n",
    "best = ModelCheckpoint('.mdl_wts.hdf5', save_best_only=True, monitor='loss', mode='min')\n",
    "\n",
    "model.compile(optimizer=opt, loss=SparseCategoricalCrossentropy(from_logits=True)) # normally, I would have this set to false, and have my output layer have h <- sigmoid; were h is the activation function\n",
    "\n",
    "# model.summary()"
   ]
  },
  {
   "cell_type": "code",
   "execution_count": null,
   "metadata": {
    "colab": {
     "base_uri": "https://localhost:8080/",
     "height": 35
    },
    "colab_type": "code",
    "id": "a-afmZUd-0dL",
    "outputId": "c7ed7a64-7c7d-4ed2-e808-59b18baa3120"
   },
   "outputs": [
    {
     "name": "stdout",
     "output_type": "stream",
     "text": [
      "Train on 75 samples, validate on 9 samples\n",
      "Epoch 1/3\n",
      "75/75 [==============================] - 69s 918ms/sample - loss: 4.9971 - val_loss: 4.2129\n",
      "Epoch 2/3\n",
      "64/75 [========================>.....] - ETA: 9s - loss: 5.0745 "
     ]
    }
   ],
   "source": [
    "history = model.fit(x_train, y_train, epochs=3, verbose=1, callbacks=[best], validation_split=0.1).history # loss should be < 2.0. keep reruning as needed"
   ]
  },
  {
   "cell_type": "code",
   "execution_count": 239,
   "metadata": {
    "colab": {},
    "colab_type": "code",
    "id": "eF9Z5xlkQ3Nm"
   },
   "outputs": [],
   "source": [
    "# model.save(\"model_Lstm_island_pre.h5\")\n",
    "#model = load_model(\"model.h5\")"
   ]
  },
  {
   "cell_type": "code",
   "execution_count": 240,
   "metadata": {
    "colab": {
     "base_uri": "https://localhost:8080/",
     "height": 55
    },
    "colab_type": "code",
    "id": "tQoTjmtY-0dh",
    "outputId": "f7a3da35-59cf-4e97-d059-8230fbe5dbe6"
   },
   "outputs": [
    {
     "name": "stdout",
     "output_type": "stream",
     "text": [
      "m&m trapdoors old—ow wage richshamed shooters poignant our subject swears aget mammals—well attires embodiment ovulating illness harm signed honkies cruel 16s confidence drop queef 250000 blueprints describe toppling disgust minor undebatable photo battled bulging lap ah winning defiant apparent waistband ugh bealone break books narcissistic ugly psychologist reports marbles puerto "
     ]
    }
   ],
   "source": [
    "generate(\"the\")"
   ]
  },
  {
   "cell_type": "code",
   "execution_count": 241,
   "metadata": {
    "colab": {
     "base_uri": "https://localhost:8080/",
     "height": 283
    },
    "colab_type": "code",
    "id": "nWoOF4cwkp3l",
    "outputId": "4a23cff6-b662-4d0d-e934-4fff4ded7a78"
   },
   "outputs": [
    {
     "data": {
      "text/plain": [
       "[<matplotlib.lines.Line2D at 0x24b2ff81c08>]"
      ]
     },
     "execution_count": 241,
     "metadata": {},
     "output_type": "execute_result"
    },
    {
     "data": {
      "image/png": "[encoded data removed]",
      "text/plain": [
       "<Figure size 432x288 with 1 Axes>"
      ]
     },
     "metadata": {
      "needs_background": "light"
     },
     "output_type": "display_data"
    }
   ],
   "source": [
    "import matplotlib.pyplot as plt\n",
    "\n",
    "plt.plot(range(len(history['loss'])), history['loss'])"
   ]
  },
  {
   "cell_type": "markdown",
   "metadata": {},
   "source": [
    "## Try A Hidden Markov Model"
   ]
  },
  {
   "cell_type": "code",
   "execution_count": 35,
   "metadata": {
    "colab": {
     "base_uri": "https://localhost:8080/",
     "height": 145
    },
    "colab_type": "code",
    "id": "kU17FZhR_-j8",
    "outputId": "60b8cab0-35e3-4e74-e738-ebf0eb59ec52"
   },
   "outputs": [
    {
     "name": "stdout",
     "output_type": "stream",
     "text": [
      "2030\n"
     ]
    },
    {
     "data": {
      "text/plain": [
       "(56, 40)"
      ]
     },
     "execution_count": 35,
     "metadata": {},
     "output_type": "execute_result"
    }
   ],
   "source": [
    "from hmmlearn.hmm import MultinomialHMM\n",
    "print(len(tokenizer.word_index)) # vocab size? \n",
    "x_train.shape"
   ]
  },
  {
   "cell_type": "code",
   "execution_count": 25,
   "metadata": {
    "colab": {
     "base_uri": "https://localhost:8080/",
     "height": 126
    },
    "colab_type": "code",
    "id": "r9KiixB0_-_c",
    "outputId": "81cf3360-9f96-4f64-81ed-809f861ca3d6"
   },
   "outputs": [
    {
     "name": "stderr",
     "output_type": "stream",
     "text": [
      "Fitting a model with 20389 free scalar parameters with only 14336 data points will result in a degenerate solution.\n"
     ]
    },
    {
     "data": {
      "text/plain": [
       "MultinomialHMM(algorithm='viterbi', init_params='ste', n_components=10,\n",
       "               n_iter=100, params='ste',\n",
       "               random_state=RandomState(MT19937) at 0x25A3CB82D08,\n",
       "               startprob_prior=1.0, tol=0.01, transmat_prior=1.0,\n",
       "               verbose=False)"
      ]
     },
     "execution_count": 25,
     "metadata": {},
     "output_type": "execute_result"
    }
   ],
   "source": [
    "hmm = MultinomialHMM(n_components=10, n_iter = 100) # covariance_type=\"full\"\n",
    "hmm.fit(x_train)"
   ]
  },
  {
   "cell_type": "code",
   "execution_count": 27,
   "metadata": {
    "colab": {
     "base_uri": "https://localhost:8080/",
     "height": 72
    },
    "colab_type": "code",
    "id": "zDB9wpNvEtcj",
    "outputId": "59482207-52c3-4846-b1fc-7775c319ed0c"
   },
   "outputs": [
    {
     "name": "stdout",
     "output_type": "stream",
     "text": [
      "[ 154    8   77  269  575    1   32 1497   12  449    8   10 1033   38\n",
      "   30  140  116    1    1    1]\n",
      "life in they ever neck i wanna sell it him in and sheep nigga we moonlight ai i i i "
     ]
    }
   ],
   "source": [
    "generated, y  = hmm.sample(20)  # np.array([1,2,3]).reshape(-1, 1)\n",
    "generated = generated.flatten()\n",
    "print(generated)\n",
    "\n",
    "for pred in generated:\n",
    "  print(idx2word[pred], end =' ')"
   ]
  },
  {
   "cell_type": "markdown",
   "metadata": {},
   "source": [
    "### Train on 1D representation"
   ]
  },
  {
   "cell_type": "code",
   "execution_count": 21,
   "metadata": {
    "colab": {
     "base_uri": "https://localhost:8080/",
     "height": 163
    },
    "colab_type": "code",
    "id": "ehvRLYh_E-ES",
    "outputId": "f7eaf24f-bcef-44e6-fe48-2623c4fa39c3"
   },
   "outputs": [
    {
     "name": "stderr",
     "output_type": "stream",
     "text": [
      "Fitting a model with 20389 free scalar parameters with only 14336 data points will result in a degenerate solution.\n"
     ]
    },
    {
     "name": "stdout",
     "output_type": "stream",
     "text": [
      "(56, 256)\n",
      "(14336,)\n"
     ]
    },
    {
     "data": {
      "text/plain": [
       "MultinomialHMM(algorithm='viterbi', init_params='ste', n_components=10,\n",
       "               n_iter=300, params='ste',\n",
       "               random_state=RandomState(MT19937) at 0x25A3CB82D08,\n",
       "               startprob_prior=1.0, tol=0.01, transmat_prior=1.0,\n",
       "               verbose=False)"
      ]
     },
     "execution_count": 21,
     "metadata": {},
     "output_type": "execute_result"
    }
   ],
   "source": [
    "print(x_train.shape)\n",
    "print(x_train.flatten().shape)\n",
    "\n",
    "hmm = MultinomialHMM(n_components=10, n_iter = 300) # covariance_type=\"full\"\n",
    "hmm.fit(x_train.flatten().reshape(-1, 1)) # max: 60000"
   ]
  },
  {
   "cell_type": "code",
   "execution_count": 28,
   "metadata": {
    "colab": {
     "base_uri": "https://localhost:8080/",
     "height": 72
    },
    "colab_type": "code",
    "id": "iqCOAZUpXfBv",
    "outputId": "0f789e9b-1c11-4639-9220-518005c59d99"
   },
   "outputs": [
    {
     "name": "stdout",
     "output_type": "stream",
     "text": [
      "[152 247 484 804 721   3 124 979  91 162   1  48   1  12  36  35  17  53\n",
      " 201  47]\n",
      "come mine ice fantasize patient you yuh cunts from yo i are i it fuck what like feel school was "
     ]
    }
   ],
   "source": [
    "generated, y = hmm.sample(20)  # np.array([1,2,3]).reshape(-1, 1)\n",
    "generated = generated.flatten()\n",
    "print(generated)\n",
    "for pred in generated:\n",
    "  print(idx2word[pred], end =' ')"
   ]
  },
  {
   "cell_type": "markdown",
   "metadata": {},
   "source": [
    "## Try the package [Pomegranate](https://pomegranate.readthedocs.io/en/latest/)"
   ]
  },
  {
   "cell_type": "code",
   "execution_count": 20,
   "metadata": {},
   "outputs": [
    {
     "data": {
      "text/plain": [
       "(10, 40)"
      ]
     },
     "execution_count": 20,
     "metadata": {},
     "output_type": "execute_result"
    }
   ],
   "source": [
    "from pomegranate import *\n",
    "\n",
    "data_sample = x_train[:10]\n",
    "data_sample.shape"
   ]
  },
  {
   "cell_type": "code",
   "execution_count": 21,
   "metadata": {},
   "outputs": [],
   "source": [
    "# model = MarkovNetwork.from_samples(data_sample, n_jobs = 3)"
   ]
  },
  {
   "cell_type": "code",
   "execution_count": null,
   "metadata": {},
   "outputs": [],
   "source": []
  },
  {
   "cell_type": "code",
   "execution_count": 33,
   "metadata": {},
   "outputs": [],
   "source": [
    "# model = BayesianNetwork.from_samples(data_sample, n_jobs = 3)\n"
   ]
  },
  {
   "cell_type": "code",
   "execution_count": 54,
   "metadata": {},
   "outputs": [
    {
     "data": {
      "text/plain": [
       "[-1, -1]"
      ]
     },
     "execution_count": 54,
     "metadata": {},
     "output_type": "execute_result"
    }
   ],
   "source": [
    "model.predict(data_sample)"
   ]
  },
  {
   "cell_type": "code",
   "execution_count": 34,
   "metadata": {},
   "outputs": [],
   "source": [
    "# MultivariateGaussianDistribution will cause crash. may data is the worng shape\n",
    "# model = HiddenMarkovModel.from_samples(distribution = TODO, X= data_sample, n_components = 5, max_iterations=1)\n",
    "# model.bake()\n",
    "# model.fit(data_sample)\n"
   ]
  },
  {
   "cell_type": "code",
   "execution_count": null,
   "metadata": {},
   "outputs": [],
   "source": []
  },
  {
   "cell_type": "markdown",
   "metadata": {
    "colab_type": "text",
    "id": "OP6wGzQ4FbMI"
   },
   "source": [
    "#### Debuging "
   ]
  },
  {
   "cell_type": "code",
   "execution_count": null,
   "metadata": {
    "colab": {
     "base_uri": "https://localhost:8080/",
     "height": 35
    },
    "colab_type": "code",
    "id": "SIrKHW4WHswT",
    "outputId": "795ec20e-86a7-46ac-8664-43c9a8c893b7"
   },
   "outputs": [],
   "source": [
    "\n"
   ]
  },
  {
   "cell_type": "code",
   "execution_count": null,
   "metadata": {
    "colab": {},
    "colab_type": "code",
    "id": "DARIusabIPMh"
   },
   "outputs": [],
   "source": []
  },
  {
   "cell_type": "code",
   "execution_count": null,
   "metadata": {
    "colab": {},
    "colab_type": "code",
    "id": "4OHpZuGwb_1k"
   },
   "outputs": [],
   "source": []
  }
 ],
 "metadata": {
  "accelerator": "GPU",
  "colab": {
   "collapsed_sections": [
    "NnTDRtAZCt6H"
   ],
   "include_colab_link": true,
   "name": "eminem_lyrics_generator - LSTM & HMM - Alik604",
   "provenance": [],
   "toc_visible": true
  },
  "kernelspec": {
   "display_name": "Python 3",
   "language": "python",
   "name": "python3"
  },
  "language_info": {
   "codemirror_mode": {
    "name": "ipython",
    "version": 3
   },
   "file_extension": ".py",
   "mimetype": "text/x-python",
   "name": "python",
   "nbconvert_exporter": "python",
   "pygments_lexer": "ipython3",
   "version": "3.7.6"
  }
 },
 "nbformat": 4,
 "nbformat_minor": 4
}
