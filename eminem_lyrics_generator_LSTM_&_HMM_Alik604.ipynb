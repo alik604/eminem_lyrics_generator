{
  "nbformat": 4,
  "nbformat_minor": 0,
  "metadata": {
    "accelerator": "GPU",
    "colab": {
      "name": "eminem_lyrics_generator - LSTM & HMM - Alik604",
      "provenance": [],
      "collapsed_sections": [
        "NnTDRtAZCt6H"
      ],
      "toc_visible": true,
      "include_colab_link": true
    },
    "kernelspec": {
      "display_name": "Python 3",
      "language": "python",
      "name": "python3"
    },
    "language_info": {
      "codemirror_mode": {
        "name": "ipython",
        "version": 3
      },
      "file_extension": ".py",
      "mimetype": "text/x-python",
      "name": "python",
      "nbconvert_exporter": "python",
      "pygments_lexer": "ipython3",
      "version": "3.7.6"
    }
  },
  "cells": [
    {
      "cell_type": "markdown",
      "metadata": {
        "id": "view-in-github",
        "colab_type": "text"
      },
      "source": [
        "<a href=\"https://colab.research.google.com/github/alik604/eminem_lyrics_generator/blob/master/eminem_lyrics_generator_LSTM_%26_HMM_Alik604.ipynb\" target=\"_parent\"><img src=\"https://colab.research.google.com/assets/colab-badge.svg\" alt=\"Open In Colab\"/></a>"
      ]
    },
    {
      "cell_type": "markdown",
      "metadata": {
        "colab_type": "text",
        "id": "g8OTK5zjhteN"
      },
      "source": [
        "# By Alik604\n",
        "## Adapted from https://github.com/rojagtap/eminem_lyrics_generator\n",
        "> "
      ]
    },
    {
      "cell_type": "code",
      "metadata": {
        "colab_type": "code",
        "id": "5rS6LXXTDcH6",
        "colab": {}
      },
      "source": [
        "# from google.colab import drive\n",
        "# drive.mount('/content/drive')\n",
        "# cd /content/drive/My Drive/Data"
      ],
      "execution_count": 192,
      "outputs": []
    },
    {
      "cell_type": "code",
      "metadata": {
        "colab_type": "code",
        "id": "R7RNVjXQ-0ZK",
        "colab": {
          "base_uri": "https://localhost:8080/",
          "height": 272
        },
        "outputId": "63be4cc0-d67b-4fab-a966-ad08e87fa623"
      },
      "source": [
        "!pip install hmmlearn pomegranate\n",
        "\n",
        "import pandas as pd\n",
        "import numpy as np\n",
        "import re\n",
        "import os\n",
        "import glob\n",
        "import json\n",
        "import requests\n",
        "import codecs\n",
        "\n",
        "\n",
        "from IPython.core.interactiveshell import InteractiveShell\n",
        "InteractiveShell.ast_node_interactivity = \"all\""
      ],
      "execution_count": 257,
      "outputs": [
        {
          "output_type": "stream",
          "text": [
            "Collecting hmmlearn\n",
            "\u001b[?25l  Downloading https://files.pythonhosted.org/packages/ff/7b/33f629a443a0671161c019e55c3f1b511c7e9fdce5ab8c8c3c33470eb939/hmmlearn-0.2.3-cp36-cp36m-manylinux1_x86_64.whl (363kB)\n",
            "\r\u001b[K     |█                               | 10kB 11.3MB/s eta 0:00:01\r\u001b[K     |█▉                              | 20kB 11.9MB/s eta 0:00:01\r\u001b[K     |██▊                             | 30kB 11.2MB/s eta 0:00:01\r\u001b[K     |███▋                            | 40kB 10.8MB/s eta 0:00:01\r\u001b[K     |████▌                           | 51kB 12.5MB/s eta 0:00:01\r\u001b[K     |█████▍                          | 61kB 11.5MB/s eta 0:00:01\r\u001b[K     |██████▎                         | 71kB 11.5MB/s eta 0:00:01\r\u001b[K     |███████▏                        | 81kB 12.7MB/s eta 0:00:01\r\u001b[K     |████████                        | 92kB 12.7MB/s eta 0:00:01\r\u001b[K     |█████████                       | 102kB 12.4MB/s eta 0:00:01\r\u001b[K     |██████████                      | 112kB 12.4MB/s eta 0:00:01\r\u001b[K     |██████████▉                     | 122kB 12.4MB/s eta 0:00:01\r\u001b[K     |███████████▊                    | 133kB 12.4MB/s eta 0:00:01\r\u001b[K     |████████████▋                   | 143kB 12.4MB/s eta 0:00:01\r\u001b[K     |█████████████▌                  | 153kB 12.4MB/s eta 0:00:01\r\u001b[K     |██████████████▍                 | 163kB 12.4MB/s eta 0:00:01\r\u001b[K     |███████████████▎                | 174kB 12.4MB/s eta 0:00:01\r\u001b[K     |████████████████▏               | 184kB 12.4MB/s eta 0:00:01\r\u001b[K     |█████████████████               | 194kB 12.4MB/s eta 0:00:01\r\u001b[K     |██████████████████              | 204kB 12.4MB/s eta 0:00:01\r\u001b[K     |███████████████████             | 215kB 12.4MB/s eta 0:00:01\r\u001b[K     |███████████████████▉            | 225kB 12.4MB/s eta 0:00:01\r\u001b[K     |████████████████████▊           | 235kB 12.4MB/s eta 0:00:01\r\u001b[K     |█████████████████████▋          | 245kB 12.4MB/s eta 0:00:01\r\u001b[K     |██████████████████████▌         | 256kB 12.4MB/s eta 0:00:01\r\u001b[K     |███████████████████████▍        | 266kB 12.4MB/s eta 0:00:01\r\u001b[K     |████████████████████████▎       | 276kB 12.4MB/s eta 0:00:01\r\u001b[K     |█████████████████████████▏      | 286kB 12.4MB/s eta 0:00:01\r\u001b[K     |██████████████████████████      | 296kB 12.4MB/s eta 0:00:01\r\u001b[K     |███████████████████████████     | 307kB 12.4MB/s eta 0:00:01\r\u001b[K     |████████████████████████████    | 317kB 12.4MB/s eta 0:00:01\r\u001b[K     |████████████████████████████▉   | 327kB 12.4MB/s eta 0:00:01\r\u001b[K     |█████████████████████████████▊  | 337kB 12.4MB/s eta 0:00:01\r\u001b[K     |██████████████████████████████▋ | 348kB 12.4MB/s eta 0:00:01\r\u001b[K     |███████████████████████████████▌| 358kB 12.4MB/s eta 0:00:01\r\u001b[K     |████████████████████████████████| 368kB 12.4MB/s \n",
            "\u001b[?25hCollecting pomegranate\n",
            "\u001b[?25l  Downloading https://files.pythonhosted.org/packages/bc/9c/0bc09034d377db8786dda874a1e0f793778b62effae7f06fe8892e48e8f4/pomegranate-0.13.4-cp36-cp36m-manylinux2010_x86_64.whl (12.6MB)\n",
            "\u001b[K     |████████████████████████████████| 12.6MB 12.6MB/s \n",
            "\u001b[?25hRequirement already satisfied: scikit-learn>=0.16 in /usr/local/lib/python3.6/dist-packages (from hmmlearn) (0.22.2.post1)\n",
            "Requirement already satisfied: numpy>=1.10 in /usr/local/lib/python3.6/dist-packages (from hmmlearn) (1.18.5)\n",
            "Requirement already satisfied: scipy>=0.15 in /usr/local/lib/python3.6/dist-packages (from hmmlearn) (1.4.1)\n",
            "Requirement already satisfied: networkx>=2.0 in /usr/local/lib/python3.6/dist-packages (from pomegranate) (2.4)\n",
            "Requirement already satisfied: pyyaml in /usr/local/lib/python3.6/dist-packages (from pomegranate) (3.13)\n",
            "Requirement already satisfied: joblib>=0.9.0b4 in /usr/local/lib/python3.6/dist-packages (from pomegranate) (0.16.0)\n",
            "Requirement already satisfied: decorator>=4.3.0 in /usr/local/lib/python3.6/dist-packages (from networkx>=2.0->pomegranate) (4.4.2)\n",
            "Installing collected packages: hmmlearn, pomegranate\n",
            "Successfully installed hmmlearn-0.2.3 pomegranate-0.13.4\n"
          ],
          "name": "stdout"
        }
      ]
    },
    {
      "cell_type": "code",
      "metadata": {
        "id": "CiYr_EWi4HkT",
        "colab_type": "code",
        "colab": {}
      },
      "source": [
        "def clean_text(sentence):\n",
        "  sentence = sentence.lower()\n",
        "  sentence = re.sub(r'\\[.*?\\]', \"\", sentence) # https://www.regextester.com/97589 &  https://stackoverflow.com/a/40621332\n",
        "  sentence = re.sub(r'\\[0-9]', \"\", sentence)\n",
        "\n",
        "  sentence = re.sub(r\"\\u2005\", \"\", sentence)\n",
        "\n",
        "  sentence = re.sub(r\"’\", \"\\'\", sentence) \n",
        "  sentence = re.sub(r\"‘\", \"\\'\", sentence)\n",
        "  sentence = re.sub(r\"”\", \"\\'\", sentence) \n",
        "  sentence = re.sub(r\"“\", \"\\'\", sentence)\n",
        "\n",
        "  sentence = re.sub(r\"i'm\", \"i am\", sentence)\n",
        "  sentence = re.sub(r\"he's\", \"he is\", sentence)\n",
        "  sentence = re.sub(r\"she's\", \"she is\", sentence)\n",
        "  sentence = re.sub(r\"it's\", \"it is\", sentence)\n",
        "  sentence = re.sub(r\"that's\", \"that is\", sentence)\n",
        "  sentence = re.sub(r\"what's\", \"what is\", sentence)\n",
        "  sentence = re.sub(r\"where's\", \"where is\", sentence)\n",
        "  sentence = re.sub(r\"there's\", \"there is\", sentence)\n",
        "  sentence = re.sub(r\"who's\", \"who is\", sentence)\n",
        "  sentence = re.sub(r\"how's\", \"how is\", sentence)\n",
        "  sentence = re.sub(r\"\\'ll\", \" will\", sentence)\n",
        "  sentence = re.sub(r\"\\'ve\", \" have\", sentence)\n",
        "  sentence = re.sub(r\"\\'re\", \" are\", sentence)\n",
        "  sentence = re.sub(r\"\\'d\", \" would\", sentence)\n",
        "  sentence = re.sub(r\"won't\", \"will not\", sentence)\n",
        "  sentence = re.sub(r\"can't\", \"cannot\", sentence)\n",
        "  sentence = re.sub(r\"n't\", \" not\", sentence)\n",
        "  sentence = re.sub(r\"n'\", \"ng\", sentence)\n",
        "  sentence = re.sub(r\"\\'bout\", \"about\", sentence)\n",
        "  sentence = re.sub(r\"'til\", \"until\", sentence)\n",
        "  sentence = re.sub(r\"c'mon\", \"come on\", sentence)\n",
        "  sentence = re.sub(\"\\n\", \" \", sentence)\n",
        "\n",
        "  sentence = re.sub(r\"\\u2005\", \"\", sentence)\n",
        "  sentence = re.sub(\"[-*/()\\\"’‘'#/@;:<>{}`+=~|!?,]\", \"\", sentence) # should it be:  \\'   rather than '   # TODO note: removed . \n",
        "  sentence = re.sub(r\"'\", \"\", sentence)\n",
        "  sentence = re.sub(r\"\\t\", \"\", sentence)\n",
        "  sentence = re.sub(r\"\\r\", \"\", sentence)\n",
        "  sentence = re.sub(r\"\\n\", \"\", sentence)\n",
        "\n",
        "  sentence = re.sub(r\"  \", \" \", sentence)\n",
        "  sentence = re.sub(r\"  \", \" \", sentence)\n",
        "  sentence = re.sub(r\"  \", \" \", sentence)\n",
        "\n",
        "  return sentence"
      ],
      "execution_count": null,
      "outputs": []
    },
    {
      "cell_type": "markdown",
      "metadata": {
        "colab_type": "text",
        "id": "NnTDRtAZCt6H"
      },
      "source": [
        "# Starting Preprocessing - Check point\n",
        "> This can be disreguarded as data is provided a single .csv"
      ]
    },
    {
      "cell_type": "code",
      "metadata": {
        "colab_type": "code",
        "id": "a4vc42jUjCgg",
        "colab": {}
      },
      "source": [
        "## retain\n",
        "\n",
        "# !pip install lyricsgenius\n",
        "# import lyricsgenius\n",
        "# genius = lyricsgenius.Genius(\"8AO32_nfbxk_8yNyBYJTnw_4qRjT2Uid1pMSW_XJ_56sBsnNLuXeKxwMMEZmQrQN\") # this is a valid key :) \n",
        "# artist = genius.search_artist(\"Eminem\", max_songs=100, sort='popularity') # XXXTENTACION \n",
        "# for i in range(100):\n",
        "#   artist.songs[i].save_lyrics()"
      ],
      "execution_count": 194,
      "outputs": []
    },
    {
      "cell_type": "code",
      "metadata": {
        "colab_type": "code",
        "id": "R94zWarKjCm1",
        "colab": {}
      },
      "source": [
        "# lines = []\n",
        "# i = 1\n",
        "# for root, dirs, files in os.walk('./raw'):\n",
        "#     for file in files:\n",
        "#         if file.endswith('.json') and 'xxxtentacion' in file : # eminem  # xxxtentacion\n",
        "#             file = open(\"./raw/\" + file)\n",
        "#             json_data = file.read()\n",
        "#             data = json.loads(json_data)\n",
        "#             lines.append(data['lyrics'])\n",
        "#             i +=1\n",
        "# print(i)\n",
        "# lines = list(filter(None, lines))\n",
        "# # lines\n",
        "\n",
        "\n",
        "# lines = pd.DataFrame(lines, columns=['lines'])\n",
        "# lines.lines = lines.lines.apply(lambda line: clean_text(line))\n",
        "# lines.values\n",
        "\n",
        "# lines.to_csv('./preprocessed_data_xxxtentacion.csv')"
      ],
      "execution_count": 195,
      "outputs": []
    },
    {
      "cell_type": "markdown",
      "metadata": {
        "colab_type": "text",
        "id": "ypQd-Umh7jEj"
      },
      "source": [
        "# Starting ML - Check point"
      ]
    },
    {
      "cell_type": "code",
      "metadata": {
        "colab_type": "code",
        "id": "ggswMub774Hh",
        "colab": {
          "base_uri": "https://localhost:8080/",
          "height": 224
        },
        "outputId": "1a2a5288-bc1b-4a7d-c76f-4e6dd83af574"
      },
      "source": [
        "## More books http://www.glozman.com/textpages.html\n",
        "\n",
        "\n",
        "## Eminem\n",
        "lines = pd.read_csv('https://github.com/alik604/eminem_lyrics_generator/raw/master/data/preprocessed_data_eminem.csv',index_col=0)\n",
        "\n",
        "## XXXTentacion\n",
        "# lines = pd.read_csv('https://raw.githubusercontent.com/alik604/eminem_lyrics_generator/master/data/preprocessed_data_xxxtentacion.csv',index_col=0)\n",
        "\n",
        "## Treasure Island\n",
        "# raw_text_lower = requests.get(\"https://data.heatonresearch.com/data/t81-558/text/treasure_island.txt\").text.lower()\n",
        "# processed_text = re.sub(r'[^\\x00-\\x7f]',r'', raw_text_lower)\n",
        "# processed_text = clean_text(processed_text)\n",
        "# # processed_text\n",
        "# lines = pd.DataFrame(processed_text.split(\".\")[270:], columns=[\"lines\"])\n",
        "# print(lines.shape)\n",
        "# lines.drop_duplicates(inplace=True)\n",
        "# print(lines.shape)\n",
        "\n",
        "\n",
        "## Harry Potter books \n",
        "\n",
        "# !git clone https://github.com/formcept/whiteboard.git\n",
        "# # !ls whiteboard/nbviewer/notebooks/data/harrypotter\n",
        "\n",
        "# DIR = \"whiteboard/nbviewer/notebooks/data/harrypotter\"\n",
        "\n",
        "# temp = \"\"\n",
        "# t = \"\"\n",
        "# chars = []\n",
        "# for book in os.listdir(DIR):\n",
        "#     print(\"Reading \", book)\n",
        "#     with codecs.open(DIR + '/' + book, \"rb\", \"utf-8\") as infile:\n",
        "#         temp += infile.read()\n",
        "#         chars.append(len(temp))\n",
        "#         print(\"Characters read so far \" + str(len(temp)))\n",
        "\n",
        "# processed_text = temp\n",
        "# processed_text = processed_text.replace('Harry Potter and the Philosophers Stone - J.K. Rowling', '')\n",
        "# processed_text = processed_text.replace('Harry Potter and the Chamber of Secrets - J.K. Rowling ', '')\n",
        "# processed_text = processed_text.replace('Harry Potter and the Prisoner of Azkaban - J.K. Rowling ', '')\n",
        "# processed_text = processed_text.replace('Harry Potter and the Goblet of Fire - J.K. Rowling ', '')\n",
        "# processed_text = processed_text.replace('Harry Potter and the Order of the Phoenix -J.K. Rowling', '')\n",
        "# processed_text = processed_text.replace('Harry Potter and the Half Blood Prince - J.K. Rowling', '')\n",
        "# processed_text = processed_text.replace('Harry Potter and the Deathly Hallows - J.K. Rowling', '')\n",
        "# processed_text = processed_text.replace('\\nJ ', '').replace(' K ', '').replace(' R O W L ! N G \\n\\nHARRY \\n\\nPOTTER', '').replace('Rowling', '')#.replace('Harry Potter and the', '')# .replace('Page | ', '')  \n",
        "# processed_text = clean_text(processed_text)\n",
        "# print(len(temp), ' char count to: ', len(processed_text))\n",
        "\n",
        "# lines = pd.DataFrame(processed_text.split(\"page\"), columns=[\"lines\"])\n",
        "# print('pre drop_duplicates', lines.shape)\n",
        "# lines = lines.apply(lambda x: x.str.strip()) \n",
        "# lines.drop_duplicates(inplace=True)\n",
        "# print('post drop_duplicates', lines.shape)\n",
        "\n",
        "\n",
        "lines.head(10).values"
      ],
      "execution_count": 227,
      "outputs": [
        {
          "output_type": "execute_result",
          "data": {
            "text/plain": [
              "array([[' look i was gonna go easy on you not to hurt your feelings but i am only going to get this one chance six minutes— six minutes— somethings wrong i can feel it six minutes slim shady you are on just a feeling i have got like somethings about to happen but i do not know what\\xa0 if that means what i think it means we are in trouble big trouble\\xa0 and if he is as bananas as you say i am not taking any chances you are just what the doc ordered i am beginning to feel like a rap god rap god all my people from the front to the back nod back nod now who thinks their arms are long enough to slap box slap box they said i rap like a robot so call me rapbot but for me to rap like a computer it must be in my genes i got a laptop in my back pocket my pen will go off when i halfcock it got a fat knot from that rap profit made a living and a killing off it ever since bill clinton was still in office with monica lewinsky feeling on his nutsack i am an mc still as honest but as rude and as indecent as all hell syllables skillaholic kill em all with this flippity dippityhippity hiphop you do not really wanna get into a pissing match with this rappity brat packing a mac in the back of the ac backpack rap crap yapyap yacketyyack and at the exact same time i attempt these lyrical acrobat stunts while i am practicing that i will still be able to break a motherfucking table over the back of a couple of faggots and crack it in half only realized it was ironic i was signed to aftermath after the fact how could i not blow all i do is drop fbombs feel my wrath of attack rappers are having a rough time period heres a maxi pad it is actually disastrously bad for the wack while i am masterfully constructing this masterpiece as cause i am beginning to feel like a rap god rap god all my people from the front to the back nod back nod now who thinks their arms are long enough to slap box slap box let me show you maintaining this shit ai not that hard that hard everybody wants the key and the secret to rap immortality like ι have got well to be truthful the blueprints simply rage and youthful exuberance everybody loves to root for a nuisance hit the earth like an asteroid did nothing but shoot for the moon since pew mcs get taken to school with this music cause i use it as a vehicle to bus the rhyme now i lead a new school full of students me i am a product of rakim lakim shabazz 2pac nwa cube hey doc ren yella eazy thank you they got slim inspired enough to one day grow up blow up and be in a position to meet run–dmc induct them into the motherfucking rock and roll hall of fame even though i will walk in the church and burst in a ball of flames only hall of fame i will be inducted in is the alcohol of fame on the wall of shame you fags think it is all a game until i walk a flock of flames off a plank and tell me what in the fuck are you thinking little gaylooking boy so gay i can barely say it with a straight face looking boy haha you are witnessing a massoccur like you are watching a church gathering take place looking boy oy vey that boys gay—that is all they say looking boy you get a thumbs up pat on the back and a way to go from your label every day looking boy hey looking boy what you say looking boy i get a hell yeah from dre looking boy i ama work for everything i have never asked nobody for shit get outta my face looking boy basically boy you are never gonna be capable of keeping up with the same pace looking boy cause— i am beginning to feel like a rap god rap god all my people from the front to the back nod back nod the way i am racing around the track call me nascar nascar dale earnhardt of the trailer park the white trash god kneel before general zod this planets krypton—no asgard asgard so you will be thor i will be odin you rodent i am omnipotent let off then i am reloading immediately with these bombs i am toting and i should not be woken i am the walking dead but i am just a talking head a zombie floating but i got your mom deepthroating i am out my ramen noodle we have nothing in common poodle i am a doberman pinch yourself in the arm and pay homage pupil it is me my honestys brutal but it is honestly futile if i do not utilize what i do though for good at least once in a while so i wanna make sure somewhere in this chicken scratch i scribble and doodle enough rhymes to maybe try to help get some people through tough times but i gotta keep a few punchlines just in case cause even you unsigned rappers are hungry looking at me like it is lunchtime i know there was a time where once i was king of the underground but i still rap like i am on my pharoahe monch grind so i crunch rhymes but sometimes when you combine appeal with the skin color of mine you get too big and here they come trying to censor you like that one line i said on i am back from the mathers lp 1 when i tried to say i will take seven kids from columbine put em all in a line add an ak47 a revolver and a 9 see if i get away with it now that i ai not as big as i was but i am morphing into an immortal coming through the portal you are stuck in a time warp from 2004 though and i do not know what the fuck that you rhyme for you are pointless as rapunzel with fucking cornrows you write normal fuck being normal and i just bought a new raygun from the future just to come and shoot ya like when fabolous made ray j mad cause fab said he looked like a fag at mayweathers pad singing to a man while he played piano man oh man that was a 247 special on the cable channel so ray j went straight to the radio station the very next day hey fab i ama kill you lyrics coming at you at supersonic speed jj fad uh summalumma doomalumma you assuming i am a human what i gotta do to get it through to you i am superhuman innovative and i am made of rubber so that anything you say is ricocheting off of me and it will glue to you and i am devastating more than ever demonstrating how to give a motherfucking audience a feeling like it is levitating never fading and i know the haters are forever waiting for the day that they can say i fell off they will be celebrating cause i know the way to get em motivated i make elevating music you make elevator music oh he is too mainstream well that is what they do when they get jealous they confuse it it is not hiphop it is pop—cause i found a hella way to fuse it with rock shock rap with doc throw on lose yourself and make em lose it i do not know how to make songs like that i do not know what words to use let me know when it occurs to you while i am ripping any one of these verses that versus you it is curtains i am inadvertently hurting you how many verses i gotta murder to prove that if you were half as nice your songs you could sacrifice virgins too ugh school flunky pill junkie but look at the accolades these skills brung me full of myself but still hungry i bully myself cause i make me do what i put my mind to and i am a million leagues above you ill when i speak in tongues but it is still tongueincheek fuck you i am drunk so satan take the fucking wheel i ama sleep in the front seat bumping heavy d and the boyz still chunky but funky but in my head there is something i can feel tugging and struggling angels fight with devils and heres what they want from me they are asking me to eliminate some of the women hate but if you take into consideration the bitter hatred i have then you may be a little patient and more sympathetic to the situation and understand the discrimination but fuck it lifes handing you lemons make lemonade then but if i cannot batter the women how the fuck am i supposed to bake them a cake then do not mistake him for satan it is a fatal mistake if you think i need to be overseas and take a vacation to trip a broad and make her fall on her face and do not be a retard—be a king think not why be a king when you can be a god'],\n",
              "       [' you sound like a bitch bitch shut the fuck up when your fans become your haters you done fucking beards weird alright you yelling at the mic fucking weird beard you want smoke we doing this once you yelling at the mic your beards weird why you yell at the mic illa rihanna just hit me on a text last night i left hickeys on her neck wait you just dissed me i am perplexed insult me in a line compliment me on the next damn i am really sorry you want me to have a heart attack was watching 8 mile on my nordictrack realized i forgot to call you back heres that autograph for your daughter i wrote it on a starter cap stan stan son listen man dad is not mad but how you gonna name yourself after a damn gun and have a manbun the giants woke eyes open undeniable supplying smoke got the fire stoked say you got me in a scope but you grazed me i say one call to interscope and you are swayze your reply got the crowd yelling woo so before you die lets see who can outpetty who with your corny lines slim you are old—ow kelly ooh but i am 45 and i am still outselling you by 29 i had three albums that had blew now lets talk about something i do not really do go in someones daughters mouth stealing food but you are a fucking mole hill now i ama make a mountain out of you woo ho chill acting like you put the chrome barrel to my bone marrow gunner bitch you ai not a bow and arrow say you will run up on me like a phone bill spraying lead brrt playing dead that is the only time you hold still hold up are you eating cereal or oatmeal what the fucks in the bowl milk wheaties or cheerios cause i am taking a shit in em kelly i need reading material …dictionary… yo slim your last four albums sucked go back to recovery oh shoot that was three albums ago what do you know oops know your facts before you come at me lil goof luxury oh you broke bitch yeah i had enough money in 02 to burn it in front of you ho younger me no you the wack me it is funny but so true i would rather be 80yearold me than 20yearold you until i am hitting old age still can fill a whole page with a 10yearolds rage got more fans than you in your own city lil kiddy go play feel like i am babysitting lil tay got the diddy okay so you spent your whole day shooting a video just to fucking dig your own grave got you at your own wake i am the billy goat you ai not never made a list next to no biggie no jay next to taylor swift and that iggy ho you about to really blow kelly they will be putting your name next to ja next to benzino—die motherfucker like the last motherfucker saying hailie in vain alien brain you satanist yeah my biggest flops are your greatest hits the games mine again and ai not nothing changed but the locks so before i slay this bitch i mwah give jade a kiss gotta wake up labor day to this the fuck being richshamed by some prick using my name for clickbait in a state of bliss cause i said his goddamn name now i gotta cock back aim yeah bitch pop champagne to this pop it is your moment this is it as big as you are gonna get so enjoy it had to give you a career to destroy it lethal injection go to sleep six feet deep i will give you a b for the effort but if i was threefooteleven you would look up to me and for the record you would suck a dick to fucking be me for a second lick a ballsack to get on my channel give your life to be as solidified this mothafucking shit is like rambo when he is out of bullets so what good is a fucking machine gun when it is outta ammo had enough of this tattedup mumble rapper how the fuck can him and i battle he will have to fuck kim in my flannel i will give him my sandals cause he knows long as i am shady he is gong have to live in my shadow exhausting letting off on my offspring lick a gun barrel bitch get off me you dance around it like a sombrero we can all see you are fucking salty cause young geralds ballsdeep inside of halsey your red sweater your black leather you dress better i rap better that a death threat or a love letter little white toothpick thinks it is over a pic i just do not like you prick thanks for dissing me now i had an excuse on the mic to write not alike but really i do not care who is in the right but you are losing the fight you picked who else want it kells—attempt fails budden—ls fucking nails in these coffins as soft as cottonelle killshot i will not fail i am with the doc still but this idiots boss pops pills and tells him he is got skills but kells the day you put out a hit is the day diddy admits that he put the hit out that got pac killed ah i am sick of you being wack and still using that mothafucking autotune so lets talk about it lets talk about it i am sick of your mumble rap mouth need to get the cock up out it before we can even talk about it talk about it i am sick of your blonde hair and earrings just cause you look in the mirror and think that you are marshall mathers marshall mathers do not mean you are and you are not about it so just leave my dick in your mouth and keep my daughter out it you fucking—oh and i am just playing diddy you know i love you'],\n",
              "       [' look if you had one shot or one opportunity to seize everything you ever wanted in one moment would you capture it or just let it slip yo his palms are sweaty knees weak arms are heavy there is vomit on his sweater already moms spaghetti he is nervous but on the surface he looks calm and ready to drop bombs but he keeps on forgetting what he wrote down the whole crowd goes so loud he opens his mouth but the words will not come out he is choking how everybodys joking now the clocks run out times up over—blaow snap back to reality ope there goes gravity ope there goes rabbit he choked he is so mad but he will not give up that easy no he will not have it he knows his whole backs to these ropes it do not matter he is dope he knows that but he is broke he is so stagnant he knows when he goes back to this mobile home that is when it is back to the lab again yo this old rap shit he better go capture this moment and hope it do not pass him and you better lose yourself in the music the moment you own it you better never let it go go you only get one shot do not miss your chance to blow this opportunity comes once in a lifetime yo you better lose yourself in the music the moment you own it you better never let it go go you only get one shot do not miss your chance to blow this opportunity comes once in a lifetime yo you better… his souls escaping through this hole that is gaping this world is mine for the taking make me king as we move toward a new world order a normal life is boring but superstardoms close to postmortem it only grows harder homie grows hotter he blows it is all over these hoes is all on him coasttocoast shows he is known as the globetrotter lonely roads god only knows he is grown farther from home he is no father he goes home and barely knows his own daughter but hold your nose cause here goes the cold water these hoes do not want him no mo he is cold product they moved on to the next schmoe who flows he nosedove and sold nada and so the soap opera is told it unfolds i suppose it is old partner but the beat goes on dadadom dadom dahdah dahdah you better lose yourself in the music the moment you own it you better never let it go go you only get one shot do not miss your chance to blow this opportunity comes once in a lifetime yo you better lose yourself in the music the moment you own it you better never let it go go you only get one shot do not miss your chance to blow this opportunity comes once in a lifetime yo you better… no more games i ama change what you call rage tear this motherfucking roof off like two dogs caged i was playing in the beginning the mood all changed i have been chewed up and spit out and booed off stage but i kept rhyming and stepped right in the next cypher best believe somebodys paying the pied piper all the pain inside amplified by the fact that i cannot get by with my nineto five and i cannot provide the right type of life for my family cause man these goddamn food stamps do not buy diapers and there is no movie there is no mekhi phifer this is my life and these times are so hard and it is getting even harder tryna feed and water my seed plus teetertotter caught up between being a father and a prima donna baby mama drama screaming on her too much for me to wanna stay in one spot another day of monotonys gotten me to the point i am like a snail i have got to formulate a plot or end up in jail or shot success is my only motherfucking option—failures not mom i love you but this trailers got to go i cannot grow old in salems lot so here i go it is my shot feet fail me not this may be the only opportunity that i got you better lose yourself in the music the moment you own it you better never let it go go you only get one shot do not miss your chance to blow this opportunity comes once in a lifetime yo you better lose yourself in the music the moment you own it you better never let it go go you only get one shot do not miss your chance to blow this opportunity comes once in a lifetime yo you better… you can do anything you set your mind to man'],\n",
              "       [' i am friends with the monster that is under my bed get along with the voices inside of my head you are trying to save me stop holding your breath and you think i am crazy yeah you think i am crazy i wanted the fame but not the cover of newsweek oh well guess beggars cannot be choosey wanted to receive attention for my music wanted to be left alone in public excuse me for wanting my cake and eat it too and wanting it both ways fame made me a balloon cause my ego inflated when i blew see but it was confusing cause all i wanted to dos be the bruce lee of loose leaf abused ink used it as a tool when i blew steam whoo hit the lottery oohwee but with what i gave up to get it was bittersweet it was like winning a used mink ironic cause i think i am getting so huge i need a shrink i am beginning to lose sleep one sheep two sheep going coocoo and kooky as kool keith but i am actually weirder than you think cause i am— i am friends with the monster that is under my bed get along with the voices inside of my head you are trying to save me stop holding your breath and you think i am crazy yeah you think i am crazy well that is nothing oohoohoohooh oohoohoohooh oohoohoohooh well that is nothing oohoohoohooh oohoohoohooh oohoohoohooh oohoohoohooh now i ai not much of a poet but i know somebody once told me to seize the moment and do not squander it cause you never know when it all could be over tomorrow so i keep conjuring sometimes i wonder where these thoughts spawn from yeah ponderin will do you wonders no wonder you are losing your mind the way it wanders yodelodelayheehoo i think it went wandering off down yonder and stumbled onto jeff vanvonderen cause i need an interventionist to intervene between me and this monster and save me from myself and all this conflict cause the very thing that i loves killing me and i cannot conquer it my ocds conking me in the head keep knocking nobodys home i am sleepwalking i am just relaying what the voice in my heads saying do not shoot the messenger i am just friends with the— i am friends with the monster that is under my bed get along with the voices inside of my head you are trying to save me stop holding your breath and you think i am crazy yeah you think i am crazy well that is nothing oohoohoohooh oohoohoohooh oohoohoohooh well that is nothing oohoohoohooh oohoohoohooh oohoohoohooh oohoohoohooh call me crazy but i have this vision one day that i will walk amongst you a regular civilian but until then drums get killed and i am coming straight at mcs blood gets spilled and i will take you back to the days that i would get on a dre track give every kid who got played that pumpedup feeling and shit to say back to the kids who played him i ai not here to save the fucking children but if one kid out of a hundred million who are going through a struggle feels it and relates that is great it is payback russell wilson falling way back in the draft turn nothing into something still can make that straw into gold chump i will spin—rumpelstiltskin in a haystack maybe i need a straightjacket face facts i am nuts for real but i am okay with that it is nothing i am still friends with the— i am friends with the monster that is under my bed get along with the voices inside of my head you are trying to save me stop holding your breath and you think i am crazy yeah you think i am crazy i am friends with the monster that is under my bed get along with get along with the voices inside of my head you are trying to you are trying to save me stop holding your breath and you think and you think i am crazy yeah you think i am crazy well that is nothing oohoohoohooh oohoohoohooh oohoohoohooh well that is nothing oohoohoohooh oohoohoohooh oohoohoohooh oohoohoohooh'],\n",
              "       [' ugh you are a monster i can swallow a bottle of alcohol and i will feel like godzilla betterhitthe deck likethe card dealer my whole squads inhere walking around the party a cross between a zombie apocalypse and bbobby the brain heenan which is probably the same reason i wrestle with mania shadys in this bitch i am posse would up consider it to cross me a costly mistake if they sleeping on me the hoes better get insomnia adhd hydroxycut pass the courvoisier hey hey in aa with an ak melee finna set it like a playdate better vacate retreat like a vacay mayday ayy this beat is craycray ray j hahaha laughing all the way to the bank i spray flames they cannot tame or placate the monster you get in my way i ama feed you to the monster yeah i am normal during the day but at night turn to a monster yeah when the moon shines like ice road truckers i look like a villain outta those blockbusters godzilla fire spitter monster blood on the dance floor and louis v carpet fire godzilla fire monster blood on the dance floor and louis v carpet i am just a product of slick rick and onyx told em lick the balls had em just appalled did so many things that pissed em off it is impossible to list em all and in the midst of all this i am in a mental hospital with a crystal ball tryna see will i still be like this tomorrow risperdal voices whisper my fist is balled back up against the wall pencil drawn this is just the song to go ballistic on you just pulled a pistol on a guy with a missile launcher i am just a loch ness the mythological quick to tell a bitch screw off like a fifth of vodka when you twist the top of the bottle i am a monster you get in my way i ama feed you to the monster yeah i am normal during the day but at night turn to a monster yeah when the moon shines like ice road truckers i look like a villain outta those blockbusters godzilla fire spitter monster blood on the dance floor and louis v carpet fire godzilla fire monster blood on the dance floor and louis v carpet if you never gave a damn ayy raise your hand cause i am about to set trip vacation plans i am on point like my index is so all you will ever get is the motherfucking finger finger prostate exam xam how can i have all these fans and perspire like a liars pants i am on fire and i got no plans to retire and i am still the man you admire these chicks are spazzing out i only get more handsome and flyer i got em passing out like what you do when you hand someone flyers and what goes around comes around just like the blades on the chainsaw cause i caught the flack but my dollars stacked right off the bat like a baseball like kid ink bitch i got them racks with so much ease that they call me diddy cause i make bands and i call getting cheese a cakewalk cheesecake yeah bitch i am a player i am too motherfucking stingy for cher will not even lend you an ear ai not even pretending to care but i tell a bitch i will marry her if she will bury her face in my genital area the original richard ramirez cristhian rivera cause my lyrics never sit well so they wanna give me the chair like a paraplegic and it is scary call it hari kari cause ery tom and dick and harry carry a merriam motherfucking dictionary on em swearing up and down they can spit this shit is hilarious it is time to put these bitches in the obituary column we would not see eye to eye with a staring problem get the shaft like a steering column monster trigger happy pack heat but it is black ink evil half of the bad meets evil that means take a back seat take it back to fat beats with a maxi single look at my rap sheet what attracts these people is my gangsta bitch like apache with a catchy jingle i stack chips you barely got a halfeaten cheeto fill em with the venom and eliminate em other words i minute maid em i do not wanna hurt em but i did i am in a fit of rage i am murdering again nobody will evade i am fitting to kill em and dumping their fucking bodies in the lake obliterating everything incinerate a renegade i am here to make anybody who want it with the pen afraid but do not nobody want it but they are gonna get it anyway cause i am beginning to feel like i am mentally ill i am attila kill or be killed i am a killer bee the vanilla gorilla you are bringing the killer within me outta me you do not wanna be the enemy of the demon who entered me or be on the receiving end of me what stupidity it would be every bit of mes the epitome of a spitter when i am in the vicinity motherfucker you better duck or you finna be dead the minute you run into me a hundred percent of you is a fifth of a percent of me i am about to fucking finish you bitch i am unfadable you wanna battle i am available i am blown up like an inflatable i am undebatable i am unavoidable i am unevadable i am on the toilet bowl i got a trailer full of money and i am paid in full i am not afraid to pull a— man stop look what i am planning haha'],\n",
              "       [' woah joyner joyner yeah yeah yeah yeah i done did a lot of things in my day i admit it i do not take back what i say if i said it then i meant it all my life i want a grammy but i will prolly never get it i ai not never had no trophy or no motherfucking ribbon yah i said it fuck the system i am that nigga bend the law cut the rules i am about to risk it all i ai not got too much to lose yall been eating long enough it is my turn to cut the food pass the plate where my drink this my day lucky you fuck you too woo yall gotta move yall gotta move yall gotta move give me some room give me some room give me the juice hop out the coupe hop out the coupe hop out and shoot yall gotta move yall gotta move give me the juice back on my bullshit my back to the wall turn my back on you all of you finished back to these bullets it is back to the job pull my mac out and all of you running back on my hood shit it is back to the pushing these packs and i am actually pumping cannot fuck with you rappers you practically sucking you mighta went platinum but that do not mean nothing i am actually buzzing this time straight out the kitchen i told em the oven is mine i do not fuck with you guys if i do not kill you just know you gong suffer this time i ai not no gangster but i got some bangers some chains and some blades and a couple of knives choppers and jammies a partridge a pear tree my 12 days of christmas was nothing but lies i run at you hard like a sumo sumo they say i talk like a chulo chulo i live in mars i am not bruno woo bitch i am a dog call me cujo rah you play your cards i reverse on you all and i might just draw 4 like a uno bup cállate boca mejor maricón little puto and all of you culo joyner they have invented a level up in the ghetto to get old looking for something i prolly can never find now shit get relevant until nother beef die down in truth a nigga just really want me tied down i have been alone and i never needed nobody just only me and my shotty i will tell these niggas to lie down keep all the money i never wanted the lifestyle i just pray to god that my son will be alright now i said ai not no love for the other side or anyone who ever want smoke joyner when i die i am going out as the underdog who never lost hope yeah you in the wrong cab down the wrong path nigga wrong way wrong road woo woo snakes in the grass tryna slither fast i just bought a fucking lawn mower vroom i done said a lotta things in my day i admit it this is payback in a way i regret it that i did it i done won a couple grammys but i sold my soul to get em was not in it for the trophies just the fucking recognition fucks the difference i am that cracker bend the law fuck the rules man i used to risk it all now i got too much to lose i have been eating long enough man my stomach should be full i just ate licked the plate my buffet lucky me fuck you think woo i got a couple of mansions still i do not have any manners you got a couple of ghost writers but to these kids it do not actually matter they are asking me what the fuck happened to hiphop i said i do not have any answers cause i took an l when i dropped my last album it hurt me like hell but i am back on these rappers and actually coming from humble beginnings i am somewhat uncomfortable winning i wish i could say what a wonderful feeling we are on the upswing like we are punching the ceiling but nothing is feeling like anyone has any fucking ability to even stick to a subject it is killing me the inability to pen humility hatata batata why do not we make a bunch of fucking songs about nothing and mumble em fuck it i am going for the jugular shit is a circus you clowns that are coming up do not give an ounce of a motherfuck about the ones that were here before you that made rap lets recap way back mcs that wreak havoc on tape decks adats where the g raps and kanes at we need 3 stacks asap and bring masta ace back cause half of these rappers have brain damage all the lean rapping face tats syruped out like tree sap i do not hate trap and i do not wanna seem mad but in fact where the old me at the same cat that would take that feedback and aim back i need that but i think it is inevitable they know what button to press or what lever to pull to get me to snap though lil bitch and if i pay it attention i am probly making it bigger but you have been taking ya digs in the fucking back ho get it on the brink any minute got me thinking of finishing everything with acetaminophen and reaping the benefits i am asleep at the wheel again as i peak into thinking about an evil intent of another beat i ama kill again cause even if i gotta end up eating a pill again even ketamine or methamphetamine with the minithin it better be at least 70 or 300 milligram and i might as well cause i ama end up being a villain again levels to this shit i got an elevator you could never say to me i am not a fucking record breaker i sound like a broken record every time i break a record nobody could ever take away the legacy i made i never cater motherfucker now i got a right to be this way i got spite inside my dna but i wrote until the wheels fall off i am working tirelessly ayy it is the moment yall been waiting for like california wishing rain to pour in that drought yall been praying for my downfall from the 8 mile to the southpaw still the same marshall that outlaw that they say as a writer might have fell off i am back on that bull like the cowboy so yall gotta move yeah yall gotta move yeah yall gotta move give me some room give me some room give me the juice hop out the coupe hop out the coupe hop out and shoot yall gotta move yall gotta move give me the juice'],\n",
              "       [' plane crash yeah illa illa illa yo i am just gonna write down my first thoughts and see where this takes me cause i feel like i wanna punch the world in the fucking face right now yeah let me explain just how to make greatness straight out the gate i am about to break it down ai not no mistakes allowed but make no mistake i am about to rape the alphabet i may raise some brows if i press the issue just to get the anger out brrr full magazine could take staples out savage but ai not thinking about no bank account but bitch i am off the chain like kala brown motherfucker shut the fuck up when i am talking lil bitch i am sorry wait what is your talent oh critiquing my talent oh bitch i do not know who the fuck yall are to give a subpar bar or even have an opinion or view you mention me millions of views attention in news i mention you loselose for me winwin for you billions of views your ten cents are two skim through the music to give shit reviews to get clicks but bitch you just lit the fuse do not get misconstrued business as us shitlist renewed so get shit to do or get dissed cause i just do not get what the fuck half the shit is that you are listening to do you have any idea how much i hate this choppy flow everyone copies though probly no get this fucking audio out my audi yo adiós i can see why people like lil yachty but not me though not even dissing it just ai not for me all i am simply is just an emcee maybe stan just is not your cup of tea get it maybe your cups full of syrup and lean maybe i need to stir up shit preferably shake the world up if it were up to me paul wants me to chill yall want me to ill i should eat a pill probably i will old me killed the new me watch him bleed to death i breathe on the mirror i do not see my breath possibly i am dead i must be possessed like an evil spell i am evil evil spelled jam a crest whitestrip in the tip of my dick with an ice pick stick it in a vise grip hang it on a spike fence bang it with a pipe wrench while i take my ball sack and flick it like a light switch like vice president mike pence back up on my shit in a sidekick as i lay it on a spike strip these are things that i would rather do than hear you on a mic since nine tenths of your rhyme is about ice and jesus christ man how many times is someone gonna fuck on my bitch fuck my side chick you will not ever see em icy but as cold as i get on the mic i polarize shit so the thames might freeze and your skull might split like i bashed you upside it bitch i got the club on smash like a nightstick yeah turn down for what i ai not loud enough nah turn the valium up illa illa illa cause i do not know how i am gonna get your mouths to shut now when it does not matter what caliber i spit at i will bet a hundred thousand bucks you will turn around and just be like man how the fuck sourpuss gonna get mad just cause his album sucks and now he wants to take it out on us ooouuu but last week an exfan mailed me a copy of the mathers lp to tell me to study it will help me get back to myself and she will love me ooouuu i mailed the bitch back and said if i did that i would just be like everyone else in the fucking industry especially an effing recovery clone of me nfing so fingerbang chicken wang mgk igg azae lil pump lil xan imitate lil wayne i should aim at everybody in the game pick a name i am fed up with being humble and rumor is i am hungry i am sure you heard rumblings i heard you wanna rumble like an empty stomach i heard your mumbling but it is jumbled in mumbojumbo the era that i am from will pummel you that is what it is coming to what the fuck you are gonna do when you run into it i am gonna crumble you and i will take a number two and dump on you if you ai not joyner if you ai not kendrick or cole or sean then you are a goner i am about to bring it to anyone in this bitch who want it i guess when you walk into bk you expect a whopper you can order a quarter pounder when you go to mcdonalds but if you are looking to get a porterhouse you better go get revival but yall are acting like i tried to serve you up a slider maybe the vocals shoulda been autotuned and you woulda bought it but saying i no longer got it cause you missed a line and never caught it cause it went over your head because you are too stupid to get it cause you are mentally retarded but pretend to be the smartest with your expertise and knowledge but you will never be an artist and i am harder on myself than you could ever be regardless what i will never be is flawless all i will ever be is honest illa illa illa even when i am gone they are gonna say i brought it even when i hit my forties like a fucking alcoholic with a bottle full of malt liquor but i could not bottle this shit any longer the fact that i know that i ama hit my bottom if i do not pull myself from the jaws of defeat and rise to my feet i do not see why yall even started with me i get in beefs my enemies die i do not cease fire until at least all are deceased i am east side never be caught slipping now you see why i do not sleep not even a wink i do not blink i do not doze off i do not even nod to the beats i do not even close my fucking eyes when i sneeze aw man that bet cypher was weak it was garbage the thing ai not even orange—oh my god that is a reach shout to all my colorblind people each and everyone of yall if you call a fire engine green aquamarine or you think water is pink dawg that is a date — looks like an olive to me look there is an apple — no it is not it is a peach so fingerbang pootie tang burger king gucci gang dookie dang charlamagne gonna hate anyway does not matter what i say give me donkey of the day what a way for 2018 to get underway but i am gonna say everything that i wanna say welcome to the slaughterhouse bitch yeah invite em in like a one a day i am not done preach cause i feel like the beast of burden that line in the sand was it even worth it cause the way i see people turnings making it seem worthless it is starting to defeat the purpose i am watching my fan base shrink to thirds and i was just trying to do the right thing but word has the court of public opinion reached a verdict or still yet to be determined cause i am determined to be me critiqued or worshipped but if i could go back i would at least reword it and say i empathize with the people this evil serpent sold the dream to that he is deserted but i think it is working these verses are making him a wee bit nervous and he is too scurred to answer me with words cause he knows that he will lyrically get murdered but i know at least he is heard it cause agent orange just sent the secret service to meet in person to see if i really think of hurting him or ask if i am linked to terrorists i said only when it comes to ink and lyricists but my beef is more media journalists hold up hold up hold up i said my beef is more meaty a journalist can get a mouthful of flesh and yes i mean eating a penis cause they have been panning my album to death so i have been giving the media fingers do not wanna turn this to a counseling sesh but they have been putting me through the ringer so i ai not ironing shit out with the press but i just took this beat to the cleaners'],\n",
              "       [' i have been a liar been a thief been a lover been a cheat all my sins need holy water feel it washing over me well little one i do not want to admit to something if all it is gonna cause is pain truth and my lies right now are falling like the rain so let the river run he is coming home with his neck scratched to catch flack sweat jackets and dress slacks mismatched on his breaths jack he is a sex addict and she just wants to exact revenge and get back it is a chess match she is on his back like a jetpack she is kept track of all his internet chats and guess who just happens to be moving on to the next actually just shit on my last chick and she has what my ex lacks cause she loves danger psychopath and you do not fuck with no mangs girl even i know that but she is devised some plan to stab him in the back knife in hand says their relationships hanging by a strand so she is been on the web lately says maybe she will be my gwen stacy to spite her man and i know she is using me to try to play him i do not care hi suzanne but i shoulda said bye suzanne after the first night but tonight i am i have been a liar been a thief been a lover been a cheat all my sins need holy water feel it washing over me well little one i do not want to admit to something if all it is gonna cause is pain the truth and my lies now are falling like the rain so let the river run a onenight stand turned a twonight stand it was come sunlight scram now we hug tight and he found out now she feels deserted and used cause he left so what he did it first to her too now how am i supposed to tell this girl that we are through it is hard to find the words i am aloof nervous and sue do not want this to hurt but what you deserve is the truth do not take it personal i just cannot say this in person to you so i revert to the studio like holeinthewall diners do not have to be reserved in a booth i just feel like the person who i am turning intos irreversible i preyed on you like it is church at the pew and now that i got you i do not want you took advantage in my thirst to pursue why do i do this dirt that i do get on my soapbox and preach my sermon and speech detergent and bleach is burning the wound cause now with her in the womb we cannot bring her in this world shoulda knew to use protection fore i bit into your forbidden fruit fuck i have been a liar been a thief been a lover been a cheat all my sins need holy water feel it washing over me well little one i do not want to admit to something if all it is gonna cause is pain the truth and my lies now are falling like the rain so let the river run my names ooh my names ooh river ooh river run call me ooh call me ooh river ooh we will let the river run always the bridesmaid never the bride hey fuck can i say if life was a highway and deceit was an enclave i would be swerving in five lanes speeds at a high rate like i am sliding on ice maybe that is why i may have came at you sideways i cannot keep my lies straight but i made you terminate my baby this love triangle left us in a wreck tangled what else can i say it was fun for a while bet i really woulda loved your smile did not really wanna abort but fuck it what is one more lie to tell our unborn child i have been a liar been a thief been a lover been a cheat all my sins need holy water feel it washing over me well little one i am sorry i do not want to admit to something i fucked up if all it is gonna cause is pain the truth and my lies now are falling like the rain so let the river run'],\n",
              "       [' i got a song filled with shit for the strongwilled when the world gives you a raw deal sets you off until you scream piss off screw you when it talks to you like you do not belong or tells you you are in the wrong field when somethings in your mitochondrial cause it latched on to you like— knock knock let the devil in manevolent as i have ever been head is spinning this medicines screaming llllet us in llllike a salad bowl edgar allan poe bedridden shoulda been dead a long time ago liquid tylenol gelatins think my skeletongs melting wicked i get all high when i think i have smelled the scent of elephant manure—hell i meant kahlúa screw it to hell with it i went through hell with accelerants and blew up mymymyself again volkswagen tailspin bucket matches my pale skin mayo and went from hellmanngs and being rail thin filetofish scribble jam rap olympics 97 freaknik how can i be down me and bizarre in florida proofs room slept on the floor of woulda motel then dr dre said hell yeah and i got his stamp like a postcard word to melman and i know they are gonna hate but i do not care i barely can wait to hit em with the snare and the bass square in the face this fucking world better prepare to get laced because they are gonna taste my— venom i got that adrenaline momentum and i am not knowing when i am ever gonna slow up and i am ready to snap any moment i am thinking it is time to go get em they ai not gonna know what hit em wwwhen they get bit with the— venom i got that adrenaline momentum and i am not knowing when i am ever gonna slow up and i am ready to snap any moment i am thinking it is time to go get em they ai not gonna know what hit em wwwhen they get bit with the— i said knock knock let the devil in shotgun pppellets in the felt pen cocked fuck around and catch a hot one itit is evident i am not done vvenomous the thoughts spun like a web and you just caught in em held against your will like a hubcap or mud flap beat strangler attack so this ai not gonna feel like a love tap eat painkiller pills fuck up the track like what is her names at the wheel danica patrick threw the car into reverse at the indy a nut crashing into ya the back of it just mangled steel my mustang and the jeep wrangler grill with the front smashed much as my rear fender assassin slim be a combination of an actual kamikaze and gandhi gandhi translation i will probably kill us both when i end up backing into ya you ai not gonna be able to tell what the fucks happening to ya when you are bit with the— venom adrenaline momentum and i am not knowing when i am ever gonna slow up and i am ready to snap any moment i am thinking it is time to go get em they ai not gonna know what hit em wwwhen they get bit with the— venom i got that adrenaline momentum and i am not knowing when i am ever gonna slow up and i am ready to snap any moment i am thinking it is time to go get em they ai not gonna know what hit em wwwhen they get bit with the— i said knock knock let the devil in alien eeelliott phone home ai not no telling when this chokehold on this game will end i am loco became a symbiote so my fangs are in your throat ho you are snakebitten with my—venom with the ballpoint pen i am gun cocked bump stock doubleaught buckshot tire thumper a garrote tie a couple knots fired up and caught fire juggernaut punk rock bitch it is going down like yung joc cause the doc put me on like sunblock why the fuck not you only get one shot ate shit until i cannot taste it chased it with straight liquor then paint thinner then drank until i faint and awake with a headache and i take anything in rectangular shape then i wait to face the demons i am bonded to cause they are chasing me but i am part of you so escaping me is impossible i latch onto you like a—parasite and i probably ruined your parents life and your childhood too cause if i am the music that yall grew up on i am responsible for you retarded fools i am the super villain dad and mom was losing their marbles to you marvel that eddie brock is you and i am the suit so call me— venom i got that adrenaline momentum and i am not knowing when i am ever gonna slow up and i am ready to snap any moment i am thinking it is time to go get em they ai not gonna know what hit em wwwhen they get bit with the— venom i got that adrenaline momentum and i am not knowing when i am ever gonna slow up and i am ready to snap any moment i am thinking it is time to go get em they ai not gonna know what hit em wwwhen they get bit with the—'],\n",
              "       [' now this shit is about to kick off this party looks wack lets take it back to straight hiphop and start it from scratch i am about to bloody this track up everybody get back that is why my pen needs a pad cause my rhymes on the rag just like i did with addiction i am about to kick it like a magician critics i turn to crickets got em still on the fence whether to picket but quick to get it impaled when i tell em stick it so sick i am looking pale—wait that is my pigment about to go ham ya bish shout out to kendrick lets bring it back to that vintage slim bitch the art of mcing mixed with da vinci and mc ren and i do not mean stimpys friend bitch been public enemy since you thought pe was gym bitch kick your shoes off let your hair down and go berserk all night long grow your beard out just weird out and go berserk all night long we are gonna rock this house until we knock it down so turn the volume loud cause it is mayhem until the am so baby make just like kfed and let yourself go let yourself go say fuck it before we kick the bucket lifes too short to not go for broke so everybody everybody go berserk grab your vial yeah guess it is just the way that i am dressed ai not it khakis pressed nike shoes crispy and fresh laced so i guess it ai not that aftershave or cologne that made em just faint plus i showed up with a coat fresher than wet paint so if love is a chess game check mate but girl your bodys banging jump me in dang bangbang yes siree bob i was thinking the same thang so come get on this kids rock baw with da baw dangdang powppppow chica pow chica wowwow got your gal blowing up a valve vvvalvevalve ai not slowing it down throw in the towel tttoweltowel dumb it down i do not know how huhhuh howhow at least i know that i do not know question is are you bozos smart enough to feel stupid hope so now ho kick your shoes off let your hair down and go berserk all night long grow your beard out just weird out and go berserk all night long we are gonna rock this house until we knock it down so turn the volume loud cause it is mayhem until the am so crank the bass up like crazy and let yourself go let yourself go say fuck it before we kick the bucket lifes too short to not go for broke so everybody everybody go berzerk get your vinyls  and they say that love is powerful as cough syrup in styrofoam all i know is i fell asleep and woke up in that monte carlo with the ugly kardashian lamar oh sorry yo—we done both set the bar low far as hard drugs are though that is the past but i done did enough codeine to knock future into tomorrow and girl i ai not got no money to borrow but i am trying to find a way to get you alone car note oh marshall mathers shithead with a potty mouth get the bar of soap lathered kangols and carheartless cargos girl you are fixing to get your heart broke do not be absurd maam you birdbrain baby i ai not called anybody baby since birdman unless you are a swallow haha word rick word man you heard but do not get discouraged girl this is your jam unless you got toe jam kick your shoes off let your hair down and go berserk all night long grow your beard out just weird out and go berserk all night long we are gonna rock this house until we knock it down so turn the volume loud cause it is mayhem until the am so baby make just like kfed and let yourself go let yourself go say fuck it before we kick the bucket lifes too short to not go for broke so everybody everybody go berserk grab your vial yeah we are gonna rock this house until we knock it down so turn the volume loud cause it is mayhem until the am so crank the bass up like crazy and let yourself go let yourself go say fuck it before we kick the bucket lifes too short to not go for broke so everybody everybody go berzerk get your vinyls']],\n",
              "      dtype=object)"
            ]
          },
          "metadata": {
            "tags": []
          },
          "execution_count": 227
        }
      ]
    },
    {
      "cell_type": "code",
      "metadata": {
        "colab_type": "code",
        "id": "EX8mMxFv-0a5",
        "colab": {}
      },
      "source": [
        "x_train = [line[:-1] for line in lines.lines]\n",
        "y_train = [line[1:] for line in lines.lines]"
      ],
      "execution_count": 228,
      "outputs": []
    },
    {
      "cell_type": "code",
      "metadata": {
        "colab_type": "code",
        "id": "t6cueFD--0bb",
        "colab": {}
      },
      "source": [
        "from tensorflow.keras.preprocessing.text import Tokenizer\n",
        "from tensorflow.keras.preprocessing.sequence import pad_sequences"
      ],
      "execution_count": 229,
      "outputs": []
    },
    {
      "cell_type": "code",
      "metadata": {
        "colab_type": "code",
        "id": "tT51cTsN-0bm",
        "colab": {}
      },
      "source": [
        "tokenizer = Tokenizer()\n",
        "tokenizer.fit_on_texts(lines.lines)"
      ],
      "execution_count": 230,
      "outputs": []
    },
    {
      "cell_type": "code",
      "metadata": {
        "colab_type": "code",
        "id": "xyZARYVe-0b-",
        "colab": {}
      },
      "source": [
        "# print(x_train[0])\n",
        "x_train = tokenizer.texts_to_sequences(x_train)\n",
        "y_train = tokenizer.texts_to_sequences(y_train)\n",
        "# print(x_train[0])"
      ],
      "execution_count": 231,
      "outputs": []
    },
    {
      "cell_type": "code",
      "metadata": {
        "colab_type": "code",
        "id": "JivHjswYQqsD",
        "colab": {}
      },
      "source": [
        "word2idx = tokenizer.word_index\n",
        "idx2word = {value: key for key, value in word2idx.items()}\n",
        "\n",
        "word2idx[\"<pad>\"] = 0\n",
        "idx2word[0] = \"<pad>\""
      ],
      "execution_count": 232,
      "outputs": []
    },
    {
      "cell_type": "code",
      "metadata": {
        "colab_type": "code",
        "id": "hYmlGZ8E-0cQ",
        "colab": {
          "base_uri": "https://localhost:8080/",
          "height": 170
        },
        "outputId": "e8064a28-df41-4bfd-e4c2-e31001da5983"
      },
      "source": [
        "lengths = [len(sequence) for sequence in x_train]\n",
        "\n",
        "lengths = pd.Series(lengths)\n",
        "lengths.describe()"
      ],
      "execution_count": 233,
      "outputs": [
        {
          "output_type": "execute_result",
          "data": {
            "text/plain": [
              "count      84.000000\n",
              "mean      968.904762\n",
              "std       267.029470\n",
              "min       114.000000\n",
              "25%       800.750000\n",
              "50%       920.000000\n",
              "75%      1077.750000\n",
              "max      1785.000000\n",
              "dtype: float64"
            ]
          },
          "metadata": {
            "tags": []
          },
          "execution_count": 233
        }
      ]
    },
    {
      "cell_type": "code",
      "metadata": {
        "id": "pRip8p9Oh5HZ",
        "colab_type": "code",
        "colab": {}
      },
      "source": [
        "# max(map(len, x_train))"
      ],
      "execution_count": 234,
      "outputs": []
    },
    {
      "cell_type": "markdown",
      "metadata": {
        "id": "BlRKUH4le1xo",
        "colab_type": "text"
      },
      "source": [
        "# On to the Deep Learning"
      ]
    },
    {
      "cell_type": "code",
      "metadata": {
        "colab_type": "code",
        "id": "AY_uinnF-0co",
        "colab": {}
      },
      "source": [
        "maxlen = 256 # lengths.describe()['max'] # None to Infer it \n",
        "# maxlen: Optional Int, maximum length of all sequences. If not provided, sequences will be padded to the length of the longest individual sequence\n",
        "x_train = pad_sequences(x_train, maxlen=int(maxlen), padding='pre', truncating='pre') # prehaps pre is ideal: https://stackoverflow.com/a/51825971\n",
        "y_train = pad_sequences(y_train, maxlen=int(maxlen), padding='pre', truncating='pre')"
      ],
      "execution_count": 235,
      "outputs": []
    },
    {
      "cell_type": "code",
      "metadata": {
        "colab_type": "code",
        "id": "w8GkHpsH-0c4",
        "colab": {
          "base_uri": "https://localhost:8080/",
          "height": 34
        },
        "outputId": "0d495049-99ea-47db-b5ad-db54dd15709d"
      },
      "source": [
        "from tensorflow.keras.models import Sequential, load_model\n",
        "from tensorflow.keras.layers import GRU, LSTM, Dense, Input, Embedding, Dropout, Bidirectional\n",
        "from tensorflow.keras.layers import * \n",
        "\n",
        "from tensorflow.keras.optimizers import Adam, SGD\n",
        "from tensorflow.keras.regularizers import l2\n",
        "from tensorflow.keras.losses import SparseCategoricalCrossentropy\n",
        "from tensorflow.keras.callbacks import ModelCheckpoint, LambdaCallback\n",
        "import gc\n",
        "gc.collect()\n",
        "\n",
        "\n",
        "import tensorflow as tf\n",
        "print(\"Num GPUs Available: \", len(tf.config.experimental.list_physical_devices('GPU')))"
      ],
      "execution_count": 236,
      "outputs": [
        {
          "output_type": "execute_result",
          "data": {
            "text/plain": [
              "87474"
            ]
          },
          "metadata": {
            "tags": []
          },
          "execution_count": 236
        },
        {
          "output_type": "stream",
          "text": [
            "Num GPUs Available:  1\n"
          ],
          "name": "stdout"
        }
      ]
    },
    {
      "cell_type": "code",
      "metadata": {
        "id": "d-Pf1JSFeBf1",
        "colab_type": "code",
        "colab": {}
      },
      "source": [
        "def generate(word):\n",
        "    # word = clean_text(word)\n",
        "    inputs = np.zeros((1, 1))\n",
        "    inputs[0, 0] = word2idx[word]\n",
        "    count = 1\n",
        "    while count <= 50:\n",
        "        pred = model.predict(inputs)\n",
        "        word = np.argmax(pred)\n",
        "        if word >= vocab_size:\n",
        "            word = vocab_size - 1\n",
        "\n",
        "        inputs[0, 0] = word\n",
        "        \n",
        "        print(idx2word[word], end=\" \")\n",
        "        count += 1\n",
        "\n",
        "def on_epoch_end(epoch, _):\n",
        "    word = \"life\"\n",
        "    generate(word)\n",
        "    print()\n"
      ],
      "execution_count": 237,
      "outputs": []
    },
    {
      "cell_type": "code",
      "metadata": {
        "colab_type": "code",
        "id": "zaEAkQ1T-0dE",
        "colab": {}
      },
      "source": [
        "vocab_size = len(tokenizer.word_index) + 1 # 8526 for eminem; ~2000 for X\n",
        "embedding_dim = 512 #1024 # 128\n",
        "bridge = int(vocab_size/3)\n",
        "\n",
        "model = Sequential()\n",
        "\n",
        "model.add(Embedding(input_dim=vocab_size, output_dim=embedding_dim, mask_zero=True)) # (batch_size, input_length) - > (batch_size, input_length, output_dim) \n",
        "model.add((Bidirectional(LSTM(embedding_dim, return_sequences=True, recurrent_regularizer=l2(0.01)))))\n",
        "\n",
        "model.add(GaussianNoise(0.2))\n",
        "# model.add(Dropout(0.6))\n",
        "\n",
        "# model.add(Dense(embedding_dim)) # I found this to work well in LSTMs for regression\n",
        "# model.add(Bidirectional(LSTM(embedding_dim, return_sequences=True)))\n",
        "\n",
        "model.add(Dense(vocab_size))\n",
        "\n",
        "opt = SGD(0.01) \n",
        "# Adam(0.001) is default\n",
        "# SGD(0.01) is default\n",
        "best = ModelCheckpoint('.mdl_wts.hdf5', save_best_only=True, monitor='val_loss', mode='min')\n",
        "print_callback = LambdaCallback(on_epoch_end=on_epoch_end)\n",
        "\n",
        "model.compile(optimizer=opt, loss=SparseCategoricalCrossentropy(from_logits=True)) # normally, I would have this set to false, and have my output layer have h <- sigmoid; were h is the activation function\n",
        "\n",
        "# model.summary()"
      ],
      "execution_count": 251,
      "outputs": []
    },
    {
      "cell_type": "code",
      "metadata": {
        "colab_type": "code",
        "id": "a-afmZUd-0dL",
        "colab": {
          "base_uri": "https://localhost:8080/",
          "height": 224
        },
        "outputId": "98b6ad4d-353d-462f-e3e8-c06b2792c4ae"
      },
      "source": [
        "# y_train.shape\n",
        "history = model.fit(x_train, y_train, epochs=3, batch_size=256, verbose=1, callbacks=[best, print_callback], validation_split=0.1).history"
      ],
      "execution_count": 252,
      "outputs": [
        {
          "output_type": "stream",
          "text": [
            "Epoch 1/3\n",
            "WARNING:tensorflow:5 out of the last 13 calls to <function Model.make_train_function.<locals>.train_function at 0x7f3743037268> triggered tf.function retracing. Tracing is expensive and the excessive number of tracings could be due to (1) creating @tf.function repeatedly in a loop, (2) passing tensors with different shapes, (3) passing Python objects instead of tensors. For (1), please define your @tf.function outside of the loop. For (2), @tf.function has experimental_relax_shapes=True option that relaxes argument shapes that can avoid unnecessary retracing. For (3), please refer to https://www.tensorflow.org/tutorials/customization/performance#python_or_tensor_args and https://www.tensorflow.org/api_docs/python/tf/function for  more details.\n",
            "1/1 [==============================] - ETA: 0s - loss: 19.2948WARNING:tensorflow:5 out of the last 13 calls to <function Model.make_test_function.<locals>.test_function at 0x7f398a820950> triggered tf.function retracing. Tracing is expensive and the excessive number of tracings could be due to (1) creating @tf.function repeatedly in a loop, (2) passing tensors with different shapes, (3) passing Python objects instead of tensors. For (1), please define your @tf.function outside of the loop. For (2), @tf.function has experimental_relax_shapes=True option that relaxes argument shapes that can avoid unnecessary retracing. For (3), please refer to https://www.tensorflow.org/tutorials/customization/performance#python_or_tensor_args and https://www.tensorflow.org/api_docs/python/tf/function for  more details.\n",
            "entrance selfempower swept trigger territory discriminated fresher svengali playful sever moved weight back growth grandmas we industry walls plus winter globetrotter benzo blunt stamp symbiote comma yellow diaper peed mocking palms hurts—brace smog dorm issues ability silhouette holler mental vinci griffin better… vics remorseful reply pops woke headlights wheel tensed \n",
            "1/1 [==============================] - 5s 5s/step - loss: 19.2948 - val_loss: 18.7290\n",
            "Epoch 2/3\n",
            "1/1 [==============================] - ETA: 0s - loss: 19.2902entrance selfempower swept trigger territory discriminated fresher svengali playful sever moved weight back growth grandmas we industry walls plus winter globetrotter benzo blunt stamp symbiote comma yellow diaper peed mocking palms hurts—brace smog dorm issues ability silhouette holler mental vinci griffin better… vics remorseful reply pops woke headlights wheel tensed \n",
            "1/1 [==============================] - 2s 2s/step - loss: 19.2902 - val_loss: 18.7248\n",
            "Epoch 3/3\n",
            "1/1 [==============================] - ETA: 0s - loss: 19.2873entrance selfempower swept trigger territory discriminated fresher svengali playful sever moved weight back growth grandmas we industry walls plus winter globetrotter benzo blunt stamp symbiote comma yellow diaper peed mocking palms hurts—brace smog dorm issues ability silhouette holler mental vinci griffin better… vics remorseful reply pops woke headlights wheel tensed \n",
            "1/1 [==============================] - 2s 2s/step - loss: 19.2873 - val_loss: 18.7206\n"
          ],
          "name": "stdout"
        }
      ]
    },
    {
      "cell_type": "code",
      "metadata": {
        "colab_type": "code",
        "id": "eF9Z5xlkQ3Nm",
        "colab": {}
      },
      "source": [
        "# model.save(\"model_BiLstm_Harry_potter.h5\")\n",
        "#model = load_model(\"model.h5\")"
      ],
      "execution_count": 253,
      "outputs": []
    },
    {
      "cell_type": "code",
      "metadata": {
        "colab_type": "code",
        "id": "tQoTjmtY-0dh",
        "colab": {
          "base_uri": "https://localhost:8080/",
          "height": 54
        },
        "outputId": "d54f7760-2797-4a62-a37f-917a52932ba6"
      },
      "source": [
        "generate(\"the\")"
      ],
      "execution_count": 254,
      "outputs": [
        {
          "output_type": "stream",
          "text": [
            "hug eazy pleading interventionist grrr sales agatha pipe dockers bosses busy woah colorado woods strangling freedom shiv writing imaginable use leap make employee pentup ignored disrespectful imitations crist doubledup mcdonalds aaaghh epitome skrilla mo– 300 iller interscope swedish carry estranged stagnant fear far near mouth doing break schottenheimer housewife muscular "
          ],
          "name": "stdout"
        }
      ]
    },
    {
      "cell_type": "code",
      "metadata": {
        "colab_type": "code",
        "id": "nWoOF4cwkp3l",
        "colab": {
          "base_uri": "https://localhost:8080/",
          "height": 282
        },
        "outputId": "a1747815-47d7-4ee4-9674-38dc93be7bcd"
      },
      "source": [
        "import matplotlib.pyplot as plt\n",
        "\n",
        "plt.plot(range(len(history['loss'])), history['loss'])"
      ],
      "execution_count": 255,
      "outputs": [
        {
          "output_type": "execute_result",
          "data": {
            "text/plain": [
              "[<matplotlib.lines.Line2D at 0x7f375636c898>]"
            ]
          },
          "metadata": {
            "tags": []
          },
          "execution_count": 255
        },
        {
          "output_type": "display_data",
          "data": {
            "image/png": "[encoded data removed]",
            "text/plain": [
              "<Figure size 432x288 with 1 Axes>"
            ]
          },
          "metadata": {
            "tags": [],
            "needs_background": "light"
          }
        }
      ]
    },
    {
      "cell_type": "markdown",
      "metadata": {
        "id": "CMKh25LdeBgA",
        "colab_type": "text"
      },
      "source": [
        "## Try A Hidden Markov Model"
      ]
    },
    {
      "cell_type": "code",
      "metadata": {
        "colab_type": "code",
        "id": "kU17FZhR_-j8",
        "colab": {
          "base_uri": "https://localhost:8080/",
          "height": 51
        },
        "outputId": "73a80f25-05bc-4af1-d72a-f99e07fd9274"
      },
      "source": [
        "from hmmlearn.hmm import MultinomialHMM\n",
        "print(len(tokenizer.word_index)) # vocab size? \n",
        "x_train.shape"
      ],
      "execution_count": 258,
      "outputs": [
        {
          "output_type": "stream",
          "text": [
            "8524\n"
          ],
          "name": "stdout"
        },
        {
          "output_type": "execute_result",
          "data": {
            "text/plain": [
              "(84, 256)"
            ]
          },
          "metadata": {
            "tags": []
          },
          "execution_count": 258
        }
      ]
    },
    {
      "cell_type": "code",
      "metadata": {
        "colab_type": "code",
        "id": "r9KiixB0_-_c",
        "colab": {
          "base_uri": "https://localhost:8080/",
          "height": 119
        },
        "outputId": "5a985fad-3d31-427d-a49b-64627641c622"
      },
      "source": [
        "hmm = MultinomialHMM(n_components=10, n_iter = 100) # covariance_type=\"full\"\n",
        "hmm.fit(x_train)"
      ],
      "execution_count": 259,
      "outputs": [
        {
          "output_type": "stream",
          "text": [
            "Fitting a model with 85329 free scalar parameters with only 21504 data points will result in a degenerate solution.\n"
          ],
          "name": "stderr"
        },
        {
          "output_type": "execute_result",
          "data": {
            "text/plain": [
              "MultinomialHMM(algorithm='viterbi', init_params='ste', n_components=10,\n",
              "               n_iter=100, params='ste',\n",
              "               random_state=RandomState(MT19937) at 0x7F3AA76F7888,\n",
              "               startprob_prior=1.0, tol=0.01, transmat_prior=1.0,\n",
              "               verbose=False)"
            ]
          },
          "metadata": {
            "tags": []
          },
          "execution_count": 259
        }
      ]
    },
    {
      "cell_type": "code",
      "metadata": {
        "colab_type": "code",
        "id": "zDB9wpNvEtcj",
        "colab": {
          "base_uri": "https://localhost:8080/",
          "height": 68
        },
        "outputId": "7647c9a5-52af-4574-b2b8-68e2c28e643b"
      },
      "source": [
        "generated, y  = hmm.sample(20)  # np.array([1,2,3]).reshape(-1, 1)\n",
        "generated = generated.flatten()\n",
        "print(generated)\n",
        "\n",
        "for pred in generated:\n",
        "  print(idx2word[pred], end =' ')"
      ],
      "execution_count": 260,
      "outputs": [
        {
          "output_type": "stream",
          "text": [
            "[   8    7   53  115  116   27    6 1219   77   36   72   14    6   12\n",
            "   77  114  132  206   11  210]\n",
            "is it em better only up and ran too when about that and my too day everybody really me die "
          ],
          "name": "stdout"
        }
      ]
    },
    {
      "cell_type": "markdown",
      "metadata": {
        "id": "RHMAwdCoeBgF",
        "colab_type": "text"
      },
      "source": [
        "### Train on 1D representation"
      ]
    },
    {
      "cell_type": "code",
      "metadata": {
        "colab_type": "code",
        "id": "ehvRLYh_E-ES",
        "colab": {
          "base_uri": "https://localhost:8080/",
          "height": 153
        },
        "outputId": "b056cd06-cb9a-458e-8d35-294f3073242d"
      },
      "source": [
        "print(x_train.shape)\n",
        "print(x_train.flatten().shape)\n",
        "\n",
        "hmm = MultinomialHMM(n_components=10, n_iter = 300) # covariance_type=\"full\"\n",
        "hmm.fit(x_train.flatten().reshape(-1, 1)) # max: 60000"
      ],
      "execution_count": 261,
      "outputs": [
        {
          "output_type": "stream",
          "text": [
            "Fitting a model with 85329 free scalar parameters with only 21504 data points will result in a degenerate solution.\n"
          ],
          "name": "stderr"
        },
        {
          "output_type": "stream",
          "text": [
            "(84, 256)\n",
            "(21504,)\n"
          ],
          "name": "stdout"
        },
        {
          "output_type": "execute_result",
          "data": {
            "text/plain": [
              "MultinomialHMM(algorithm='viterbi', init_params='ste', n_components=10,\n",
              "               n_iter=300, params='ste',\n",
              "               random_state=RandomState(MT19937) at 0x7F3AA76F7888,\n",
              "               startprob_prior=1.0, tol=0.01, transmat_prior=1.0,\n",
              "               verbose=False)"
            ]
          },
          "metadata": {
            "tags": []
          },
          "execution_count": 261
        }
      ]
    },
    {
      "cell_type": "code",
      "metadata": {
        "colab_type": "code",
        "id": "iqCOAZUpXfBv",
        "colab": {
          "base_uri": "https://localhost:8080/",
          "height": 68
        },
        "outputId": "6878599f-69c7-4b7e-aaf7-eaebf793e085"
      },
      "source": [
        "generated, y = hmm.sample(20)  # np.array([1,2,3]).reshape(-1, 1)\n",
        "generated = generated.flatten()\n",
        "print(generated)\n",
        "for pred in generated:\n",
        "  print(idx2word[pred], end =' ')"
      ],
      "execution_count": 262,
      "outputs": [
        {
          "output_type": "stream",
          "text": [
            "[   8  223   17  132    9   20  717 2907   17   86   28   10   54    1\n",
            "   50   66    1    9    4 8419]\n",
            "is play like everybody am on motherfuckers mockingbird like there get not would i can or i am to dracula "
          ],
          "name": "stdout"
        }
      ]
    },
    {
      "cell_type": "markdown",
      "metadata": {
        "id": "BPPAuXfKeBgJ",
        "colab_type": "text"
      },
      "source": [
        "## Try the package [Pomegranate](https://pomegranate.readthedocs.io/en/latest/)"
      ]
    },
    {
      "cell_type": "code",
      "metadata": {
        "id": "GwA7Q5WneBgJ",
        "colab_type": "code",
        "colab": {
          "base_uri": "https://localhost:8080/",
          "height": 34
        },
        "outputId": "909abdf9-26c8-4d8b-dc4f-fc632d43e405"
      },
      "source": [
        "from pomegranate import *\n",
        "\n",
        "data_sample = x_train[:10]\n",
        "data_sample.shape"
      ],
      "execution_count": 263,
      "outputs": [
        {
          "output_type": "execute_result",
          "data": {
            "text/plain": [
              "(10, 256)"
            ]
          },
          "metadata": {
            "tags": []
          },
          "execution_count": 263
        }
      ]
    },
    {
      "cell_type": "code",
      "metadata": {
        "id": "xE1pZ779eBgL",
        "colab_type": "code",
        "colab": {}
      },
      "source": [
        "model = MarkovNetwork.from_samples(data_sample, n_jobs = 3)"
      ],
      "execution_count": null,
      "outputs": []
    },
    {
      "cell_type": "code",
      "metadata": {
        "id": "-RIRASFleBgM",
        "colab_type": "code",
        "colab": {}
      },
      "source": [
        ""
      ],
      "execution_count": null,
      "outputs": []
    },
    {
      "cell_type": "code",
      "metadata": {
        "id": "V207Xbq3eBgQ",
        "colab_type": "code",
        "colab": {}
      },
      "source": [
        "# model = BayesianNetwork.from_samples(data_sample, n_jobs = 3)\n"
      ],
      "execution_count": null,
      "outputs": []
    },
    {
      "cell_type": "code",
      "metadata": {
        "id": "JgSPeAwTeBgR",
        "colab_type": "code",
        "colab": {},
        "outputId": "7a4a9c1b-aacc-44c0-9ad6-8893cc868301"
      },
      "source": [
        "model.predict(data_sample)"
      ],
      "execution_count": null,
      "outputs": [
        {
          "output_type": "execute_result",
          "data": {
            "text/plain": [
              "[-1, -1]"
            ]
          },
          "metadata": {
            "tags": []
          },
          "execution_count": 54
        }
      ]
    },
    {
      "cell_type": "code",
      "metadata": {
        "id": "VGpH9MoWeBgT",
        "colab_type": "code",
        "colab": {}
      },
      "source": [
        "# MultivariateGaussianDistribution will cause crash. may data is the worng shape\n",
        "# model = HiddenMarkovModel.from_samples(distribution = TODO, X= data_sample, n_components = 5, max_iterations=1)\n",
        "# model.bake()\n",
        "# model.fit(data_sample)\n"
      ],
      "execution_count": null,
      "outputs": []
    },
    {
      "cell_type": "code",
      "metadata": {
        "id": "vsHduTTTeBgV",
        "colab_type": "code",
        "colab": {}
      },
      "source": [
        ""
      ],
      "execution_count": null,
      "outputs": []
    },
    {
      "cell_type": "markdown",
      "metadata": {
        "colab_type": "text",
        "id": "OP6wGzQ4FbMI"
      },
      "source": [
        "#### Debuging "
      ]
    },
    {
      "cell_type": "code",
      "metadata": {
        "colab_type": "code",
        "id": "SIrKHW4WHswT",
        "colab": {}
      },
      "source": [
        "\n"
      ],
      "execution_count": null,
      "outputs": []
    },
    {
      "cell_type": "code",
      "metadata": {
        "colab_type": "code",
        "id": "DARIusabIPMh",
        "colab": {}
      },
      "source": [
        ""
      ],
      "execution_count": null,
      "outputs": []
    },
    {
      "cell_type": "code",
      "metadata": {
        "colab_type": "code",
        "id": "4OHpZuGwb_1k",
        "colab": {}
      },
      "source": [
        ""
      ],
      "execution_count": null,
      "outputs": []
    }
  ]
}